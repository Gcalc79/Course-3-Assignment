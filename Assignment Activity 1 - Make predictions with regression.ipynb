{
 "cells": [
  {
   "cell_type": "markdown",
   "id": "4c2a001d",
   "metadata": {},
   "source": [
    "### Prepare the workstation"
   ]
  },
  {
   "cell_type": "code",
   "execution_count": 82,
   "id": "84875d47",
   "metadata": {},
   "outputs": [],
   "source": [
    "# Import the Python libraries and packages that you’ll need to perform linear regression.\n",
    "\n",
    "import statsmodels.api as sm\n",
    "from statsmodels.formula.api import ols\n",
    "from sklearn import datasets \n",
    "import numpy as np\n",
    "from sklearn import linear_model\n",
    "import pandas as pd\n",
    "from statsmodels.stats.outliers_influence import variance_inflation_factor\n",
    "import sklearn\n",
    "from sklearn.model_selection import train_test_split\n",
    "from sklearn import metrics\n",
    "from sklearn.linear_model import LinearRegression\n",
    "import matplotlib.pyplot as plt"
   ]
  },
  {
   "cell_type": "code",
   "execution_count": 83,
   "id": "c7e7fdf0",
   "metadata": {},
   "outputs": [
    {
     "data": {
      "text/html": [
       "<div>\n",
       "<style scoped>\n",
       "    .dataframe tbody tr th:only-of-type {\n",
       "        vertical-align: middle;\n",
       "    }\n",
       "\n",
       "    .dataframe tbody tr th {\n",
       "        vertical-align: top;\n",
       "    }\n",
       "\n",
       "    .dataframe thead th {\n",
       "        text-align: right;\n",
       "    }\n",
       "</style>\n",
       "<table border=\"1\" class=\"dataframe\">\n",
       "  <thead>\n",
       "    <tr style=\"text-align: right;\">\n",
       "      <th></th>\n",
       "      <th>gender</th>\n",
       "      <th>age</th>\n",
       "      <th>remuneration (k£)</th>\n",
       "      <th>spending_score (1-100)</th>\n",
       "      <th>loyalty_points</th>\n",
       "      <th>education</th>\n",
       "      <th>language</th>\n",
       "      <th>platform</th>\n",
       "      <th>product</th>\n",
       "      <th>review</th>\n",
       "      <th>summary</th>\n",
       "    </tr>\n",
       "  </thead>\n",
       "  <tbody>\n",
       "    <tr>\n",
       "      <th>0</th>\n",
       "      <td>Male</td>\n",
       "      <td>18</td>\n",
       "      <td>12.30</td>\n",
       "      <td>39</td>\n",
       "      <td>210</td>\n",
       "      <td>graduate</td>\n",
       "      <td>EN</td>\n",
       "      <td>Web</td>\n",
       "      <td>453</td>\n",
       "      <td>When it comes to a DM's screen, the space on t...</td>\n",
       "      <td>The fact that 50% of this space is wasted on a...</td>\n",
       "    </tr>\n",
       "    <tr>\n",
       "      <th>1</th>\n",
       "      <td>Male</td>\n",
       "      <td>23</td>\n",
       "      <td>12.30</td>\n",
       "      <td>81</td>\n",
       "      <td>524</td>\n",
       "      <td>graduate</td>\n",
       "      <td>EN</td>\n",
       "      <td>Web</td>\n",
       "      <td>466</td>\n",
       "      <td>An Open Letter to GaleForce9*:\\n\\nYour unpaint...</td>\n",
       "      <td>Another worthless Dungeon Master's screen from...</td>\n",
       "    </tr>\n",
       "    <tr>\n",
       "      <th>2</th>\n",
       "      <td>Female</td>\n",
       "      <td>22</td>\n",
       "      <td>13.12</td>\n",
       "      <td>6</td>\n",
       "      <td>40</td>\n",
       "      <td>graduate</td>\n",
       "      <td>EN</td>\n",
       "      <td>Web</td>\n",
       "      <td>254</td>\n",
       "      <td>Nice art, nice printing.  Why two panels are f...</td>\n",
       "      <td>pretty, but also pretty useless</td>\n",
       "    </tr>\n",
       "    <tr>\n",
       "      <th>3</th>\n",
       "      <td>Female</td>\n",
       "      <td>25</td>\n",
       "      <td>13.12</td>\n",
       "      <td>77</td>\n",
       "      <td>562</td>\n",
       "      <td>graduate</td>\n",
       "      <td>EN</td>\n",
       "      <td>Web</td>\n",
       "      <td>263</td>\n",
       "      <td>Amazing buy! Bought it as a gift for our new d...</td>\n",
       "      <td>Five Stars</td>\n",
       "    </tr>\n",
       "    <tr>\n",
       "      <th>4</th>\n",
       "      <td>Female</td>\n",
       "      <td>33</td>\n",
       "      <td>13.94</td>\n",
       "      <td>40</td>\n",
       "      <td>366</td>\n",
       "      <td>graduate</td>\n",
       "      <td>EN</td>\n",
       "      <td>Web</td>\n",
       "      <td>291</td>\n",
       "      <td>As my review of GF9's previous screens these w...</td>\n",
       "      <td>Money trap</td>\n",
       "    </tr>\n",
       "  </tbody>\n",
       "</table>\n",
       "</div>"
      ],
      "text/plain": [
       "   gender  age  remuneration (k£)  spending_score (1-100)  loyalty_points  \\\n",
       "0    Male   18              12.30                      39             210   \n",
       "1    Male   23              12.30                      81             524   \n",
       "2  Female   22              13.12                       6              40   \n",
       "3  Female   25              13.12                      77             562   \n",
       "4  Female   33              13.94                      40             366   \n",
       "\n",
       "  education language platform  product  \\\n",
       "0  graduate       EN      Web      453   \n",
       "1  graduate       EN      Web      466   \n",
       "2  graduate       EN      Web      254   \n",
       "3  graduate       EN      Web      263   \n",
       "4  graduate       EN      Web      291   \n",
       "\n",
       "                                              review  \\\n",
       "0  When it comes to a DM's screen, the space on t...   \n",
       "1  An Open Letter to GaleForce9*:\\n\\nYour unpaint...   \n",
       "2  Nice art, nice printing.  Why two panels are f...   \n",
       "3  Amazing buy! Bought it as a gift for our new d...   \n",
       "4  As my review of GF9's previous screens these w...   \n",
       "\n",
       "                                             summary  \n",
       "0  The fact that 50% of this space is wasted on a...  \n",
       "1  Another worthless Dungeon Master's screen from...  \n",
       "2                    pretty, but also pretty useless  \n",
       "3                                         Five Stars  \n",
       "4                                         Money trap  "
      ]
     },
     "execution_count": 83,
     "metadata": {},
     "output_type": "execute_result"
    }
   ],
   "source": [
    "# load the csv file and create a dataframe\n",
    "reviews = pd.read_csv('C:/Users/keeni/Desktop/LSE Notes/Course 3 - Advanced Analytics for Organisational Impact/Assignment/turtle_reviews.csv')  \n",
    "\n",
    "# Print the DataFrame.\n",
    "reviews.head() "
   ]
  },
  {
   "cell_type": "markdown",
   "id": "14c6b2bc",
   "metadata": {},
   "source": [
    "The dataset has headers, 11 columns. <br>\n",
    "According to the metadata file, age, remuneration, spending score, loyalty points, product are numbers."
   ]
  },
  {
   "cell_type": "markdown",
   "id": "dd139d26",
   "metadata": {},
   "source": [
    "### Check the data"
   ]
  },
  {
   "cell_type": "code",
   "execution_count": 84,
   "id": "82ff7ba4",
   "metadata": {},
   "outputs": [
    {
     "name": "stdout",
     "output_type": "stream",
     "text": [
      "<class 'pandas.core.frame.DataFrame'>\n",
      "RangeIndex: 2000 entries, 0 to 1999\n",
      "Data columns (total 11 columns):\n",
      " #   Column                  Non-Null Count  Dtype  \n",
      "---  ------                  --------------  -----  \n",
      " 0   gender                  2000 non-null   object \n",
      " 1   age                     2000 non-null   int64  \n",
      " 2   remuneration (k£)       2000 non-null   float64\n",
      " 3   spending_score (1-100)  2000 non-null   int64  \n",
      " 4   loyalty_points          2000 non-null   int64  \n",
      " 5   education               2000 non-null   object \n",
      " 6   language                2000 non-null   object \n",
      " 7   platform                2000 non-null   object \n",
      " 8   product                 2000 non-null   int64  \n",
      " 9   review                  2000 non-null   object \n",
      " 10  summary                 2000 non-null   object \n",
      "dtypes: float64(1), int64(4), object(6)\n",
      "memory usage: 172.0+ KB\n"
     ]
    }
   ],
   "source": [
    "# View the DataFrame.\n",
    "reviews.info()"
   ]
  },
  {
   "cell_type": "markdown",
   "id": "011d8a8e",
   "metadata": {},
   "source": [
    "there are 2000 rows, with the first being headers. That means 1999 records. <br>\n",
    "The data types of the columns are ok."
   ]
  },
  {
   "cell_type": "code",
   "execution_count": 85,
   "id": "9fcfe192",
   "metadata": {},
   "outputs": [
    {
     "data": {
      "text/plain": [
       "gender                    0\n",
       "age                       0\n",
       "remuneration (k£)         0\n",
       "spending_score (1-100)    0\n",
       "loyalty_points            0\n",
       "education                 0\n",
       "language                  0\n",
       "platform                  0\n",
       "product                   0\n",
       "review                    0\n",
       "summary                   0\n",
       "dtype: int64"
      ]
     },
     "execution_count": 85,
     "metadata": {},
     "output_type": "execute_result"
    }
   ],
   "source": [
    "# Determine if there are null values\n",
    "reviews.isna().sum()"
   ]
  },
  {
   "cell_type": "markdown",
   "id": "319d705e",
   "metadata": {},
   "source": [
    "There are no null values"
   ]
  },
  {
   "cell_type": "code",
   "execution_count": 86,
   "id": "4d13c272",
   "metadata": {},
   "outputs": [
    {
     "data": {
      "text/html": [
       "<div>\n",
       "<style scoped>\n",
       "    .dataframe tbody tr th:only-of-type {\n",
       "        vertical-align: middle;\n",
       "    }\n",
       "\n",
       "    .dataframe tbody tr th {\n",
       "        vertical-align: top;\n",
       "    }\n",
       "\n",
       "    .dataframe thead th {\n",
       "        text-align: right;\n",
       "    }\n",
       "</style>\n",
       "<table border=\"1\" class=\"dataframe\">\n",
       "  <thead>\n",
       "    <tr style=\"text-align: right;\">\n",
       "      <th></th>\n",
       "      <th>age</th>\n",
       "      <th>remuneration (k£)</th>\n",
       "      <th>spending_score (1-100)</th>\n",
       "      <th>loyalty_points</th>\n",
       "      <th>product</th>\n",
       "    </tr>\n",
       "  </thead>\n",
       "  <tbody>\n",
       "    <tr>\n",
       "      <th>count</th>\n",
       "      <td>2000.000000</td>\n",
       "      <td>2000.000000</td>\n",
       "      <td>2000.000000</td>\n",
       "      <td>2000.000000</td>\n",
       "      <td>2000.000000</td>\n",
       "    </tr>\n",
       "    <tr>\n",
       "      <th>mean</th>\n",
       "      <td>39.495000</td>\n",
       "      <td>48.079060</td>\n",
       "      <td>50.000000</td>\n",
       "      <td>1578.032000</td>\n",
       "      <td>4320.521500</td>\n",
       "    </tr>\n",
       "    <tr>\n",
       "      <th>std</th>\n",
       "      <td>13.573212</td>\n",
       "      <td>23.123984</td>\n",
       "      <td>26.094702</td>\n",
       "      <td>1283.239705</td>\n",
       "      <td>3148.938839</td>\n",
       "    </tr>\n",
       "    <tr>\n",
       "      <th>min</th>\n",
       "      <td>17.000000</td>\n",
       "      <td>12.300000</td>\n",
       "      <td>1.000000</td>\n",
       "      <td>25.000000</td>\n",
       "      <td>107.000000</td>\n",
       "    </tr>\n",
       "    <tr>\n",
       "      <th>25%</th>\n",
       "      <td>29.000000</td>\n",
       "      <td>30.340000</td>\n",
       "      <td>32.000000</td>\n",
       "      <td>772.000000</td>\n",
       "      <td>1589.250000</td>\n",
       "    </tr>\n",
       "    <tr>\n",
       "      <th>50%</th>\n",
       "      <td>38.000000</td>\n",
       "      <td>47.150000</td>\n",
       "      <td>50.000000</td>\n",
       "      <td>1276.000000</td>\n",
       "      <td>3624.000000</td>\n",
       "    </tr>\n",
       "    <tr>\n",
       "      <th>75%</th>\n",
       "      <td>49.000000</td>\n",
       "      <td>63.960000</td>\n",
       "      <td>73.000000</td>\n",
       "      <td>1751.250000</td>\n",
       "      <td>6654.000000</td>\n",
       "    </tr>\n",
       "    <tr>\n",
       "      <th>max</th>\n",
       "      <td>72.000000</td>\n",
       "      <td>112.340000</td>\n",
       "      <td>99.000000</td>\n",
       "      <td>6847.000000</td>\n",
       "      <td>11086.000000</td>\n",
       "    </tr>\n",
       "  </tbody>\n",
       "</table>\n",
       "</div>"
      ],
      "text/plain": [
       "               age  remuneration (k£)  spending_score (1-100)  loyalty_points  \\\n",
       "count  2000.000000        2000.000000             2000.000000     2000.000000   \n",
       "mean     39.495000          48.079060               50.000000     1578.032000   \n",
       "std      13.573212          23.123984               26.094702     1283.239705   \n",
       "min      17.000000          12.300000                1.000000       25.000000   \n",
       "25%      29.000000          30.340000               32.000000      772.000000   \n",
       "50%      38.000000          47.150000               50.000000     1276.000000   \n",
       "75%      49.000000          63.960000               73.000000     1751.250000   \n",
       "max      72.000000         112.340000               99.000000     6847.000000   \n",
       "\n",
       "            product  \n",
       "count   2000.000000  \n",
       "mean    4320.521500  \n",
       "std     3148.938839  \n",
       "min      107.000000  \n",
       "25%     1589.250000  \n",
       "50%     3624.000000  \n",
       "75%     6654.000000  \n",
       "max    11086.000000  "
      ]
     },
     "execution_count": 86,
     "metadata": {},
     "output_type": "execute_result"
    }
   ],
   "source": [
    "reviews.describe()"
   ]
  },
  {
   "cell_type": "markdown",
   "id": "c0dc71c1",
   "metadata": {},
   "source": [
    "### Remove redundant columns"
   ]
  },
  {
   "cell_type": "code",
   "execution_count": 87,
   "id": "acd6be07",
   "metadata": {},
   "outputs": [],
   "source": [
    "reviews = reviews.drop(['language', 'platform'], axis=1)"
   ]
  },
  {
   "cell_type": "code",
   "execution_count": 88,
   "id": "4f999384",
   "metadata": {},
   "outputs": [
    {
     "data": {
      "text/html": [
       "<div>\n",
       "<style scoped>\n",
       "    .dataframe tbody tr th:only-of-type {\n",
       "        vertical-align: middle;\n",
       "    }\n",
       "\n",
       "    .dataframe tbody tr th {\n",
       "        vertical-align: top;\n",
       "    }\n",
       "\n",
       "    .dataframe thead th {\n",
       "        text-align: right;\n",
       "    }\n",
       "</style>\n",
       "<table border=\"1\" class=\"dataframe\">\n",
       "  <thead>\n",
       "    <tr style=\"text-align: right;\">\n",
       "      <th></th>\n",
       "      <th>gender</th>\n",
       "      <th>age</th>\n",
       "      <th>remuneration (k£)</th>\n",
       "      <th>spending_score (1-100)</th>\n",
       "      <th>loyalty_points</th>\n",
       "      <th>education</th>\n",
       "      <th>product</th>\n",
       "      <th>review</th>\n",
       "      <th>summary</th>\n",
       "    </tr>\n",
       "  </thead>\n",
       "  <tbody>\n",
       "    <tr>\n",
       "      <th>0</th>\n",
       "      <td>Male</td>\n",
       "      <td>18</td>\n",
       "      <td>12.30</td>\n",
       "      <td>39</td>\n",
       "      <td>210</td>\n",
       "      <td>graduate</td>\n",
       "      <td>453</td>\n",
       "      <td>When it comes to a DM's screen, the space on t...</td>\n",
       "      <td>The fact that 50% of this space is wasted on a...</td>\n",
       "    </tr>\n",
       "    <tr>\n",
       "      <th>1</th>\n",
       "      <td>Male</td>\n",
       "      <td>23</td>\n",
       "      <td>12.30</td>\n",
       "      <td>81</td>\n",
       "      <td>524</td>\n",
       "      <td>graduate</td>\n",
       "      <td>466</td>\n",
       "      <td>An Open Letter to GaleForce9*:\\n\\nYour unpaint...</td>\n",
       "      <td>Another worthless Dungeon Master's screen from...</td>\n",
       "    </tr>\n",
       "    <tr>\n",
       "      <th>2</th>\n",
       "      <td>Female</td>\n",
       "      <td>22</td>\n",
       "      <td>13.12</td>\n",
       "      <td>6</td>\n",
       "      <td>40</td>\n",
       "      <td>graduate</td>\n",
       "      <td>254</td>\n",
       "      <td>Nice art, nice printing.  Why two panels are f...</td>\n",
       "      <td>pretty, but also pretty useless</td>\n",
       "    </tr>\n",
       "    <tr>\n",
       "      <th>3</th>\n",
       "      <td>Female</td>\n",
       "      <td>25</td>\n",
       "      <td>13.12</td>\n",
       "      <td>77</td>\n",
       "      <td>562</td>\n",
       "      <td>graduate</td>\n",
       "      <td>263</td>\n",
       "      <td>Amazing buy! Bought it as a gift for our new d...</td>\n",
       "      <td>Five Stars</td>\n",
       "    </tr>\n",
       "    <tr>\n",
       "      <th>4</th>\n",
       "      <td>Female</td>\n",
       "      <td>33</td>\n",
       "      <td>13.94</td>\n",
       "      <td>40</td>\n",
       "      <td>366</td>\n",
       "      <td>graduate</td>\n",
       "      <td>291</td>\n",
       "      <td>As my review of GF9's previous screens these w...</td>\n",
       "      <td>Money trap</td>\n",
       "    </tr>\n",
       "  </tbody>\n",
       "</table>\n",
       "</div>"
      ],
      "text/plain": [
       "   gender  age  remuneration (k£)  spending_score (1-100)  loyalty_points  \\\n",
       "0    Male   18              12.30                      39             210   \n",
       "1    Male   23              12.30                      81             524   \n",
       "2  Female   22              13.12                       6              40   \n",
       "3  Female   25              13.12                      77             562   \n",
       "4  Female   33              13.94                      40             366   \n",
       "\n",
       "  education  product                                             review  \\\n",
       "0  graduate      453  When it comes to a DM's screen, the space on t...   \n",
       "1  graduate      466  An Open Letter to GaleForce9*:\\n\\nYour unpaint...   \n",
       "2  graduate      254  Nice art, nice printing.  Why two panels are f...   \n",
       "3  graduate      263  Amazing buy! Bought it as a gift for our new d...   \n",
       "4  graduate      291  As my review of GF9's previous screens these w...   \n",
       "\n",
       "                                             summary  \n",
       "0  The fact that 50% of this space is wasted on a...  \n",
       "1  Another worthless Dungeon Master's screen from...  \n",
       "2                    pretty, but also pretty useless  \n",
       "3                                         Five Stars  \n",
       "4                                         Money trap  "
      ]
     },
     "execution_count": 88,
     "metadata": {},
     "output_type": "execute_result"
    }
   ],
   "source": [
    "reviews.head()"
   ]
  },
  {
   "cell_type": "markdown",
   "id": "2d124bd3",
   "metadata": {},
   "source": [
    "The dataframe now has 9 columns"
   ]
  },
  {
   "cell_type": "markdown",
   "id": "5651b977",
   "metadata": {},
   "source": [
    "### Change column headings"
   ]
  },
  {
   "cell_type": "code",
   "execution_count": 89,
   "id": "20855a0e",
   "metadata": {},
   "outputs": [],
   "source": [
    "reviews = reviews.rename(columns = {\"remuneration (k£)\":\"remuneration\"})"
   ]
  },
  {
   "cell_type": "code",
   "execution_count": 90,
   "id": "59773021",
   "metadata": {},
   "outputs": [],
   "source": [
    "reviews = reviews.rename(columns = {\"spending_score (1-100)\":\"spending_score\"})"
   ]
  },
  {
   "cell_type": "code",
   "execution_count": 164,
   "id": "1816cfb5",
   "metadata": {},
   "outputs": [
    {
     "data": {
      "text/plain": [
       "Index(['gender', 'age', 'remuneration', 'spending_score', 'loyalty_points',\n",
       "       'education', 'product', 'review', 'summary'],\n",
       "      dtype='object')"
      ]
     },
     "execution_count": 164,
     "metadata": {},
     "output_type": "execute_result"
    }
   ],
   "source": [
    "reviews.columns"
   ]
  },
  {
   "cell_type": "markdown",
   "id": "f8eff31e",
   "metadata": {},
   "source": [
    "### Save the dataframe as a csv"
   ]
  },
  {
   "cell_type": "code",
   "execution_count": 92,
   "id": "a1fecb69",
   "metadata": {},
   "outputs": [],
   "source": [
    "reviews.to_csv('reviews.csv', index=False)"
   ]
  },
  {
   "cell_type": "markdown",
   "id": "29f79dee",
   "metadata": {},
   "source": [
    "### Import the file and sense-check the data"
   ]
  },
  {
   "cell_type": "code",
   "execution_count": 143,
   "id": "3b1a31cf",
   "metadata": {},
   "outputs": [
    {
     "data": {
      "text/html": [
       "<div>\n",
       "<style scoped>\n",
       "    .dataframe tbody tr th:only-of-type {\n",
       "        vertical-align: middle;\n",
       "    }\n",
       "\n",
       "    .dataframe tbody tr th {\n",
       "        vertical-align: top;\n",
       "    }\n",
       "\n",
       "    .dataframe thead th {\n",
       "        text-align: right;\n",
       "    }\n",
       "</style>\n",
       "<table border=\"1\" class=\"dataframe\">\n",
       "  <thead>\n",
       "    <tr style=\"text-align: right;\">\n",
       "      <th></th>\n",
       "      <th>gender</th>\n",
       "      <th>age</th>\n",
       "      <th>remuneration</th>\n",
       "      <th>spending_score</th>\n",
       "      <th>loyalty_points</th>\n",
       "      <th>education</th>\n",
       "      <th>product</th>\n",
       "      <th>review</th>\n",
       "      <th>summary</th>\n",
       "    </tr>\n",
       "  </thead>\n",
       "  <tbody>\n",
       "    <tr>\n",
       "      <th>0</th>\n",
       "      <td>Male</td>\n",
       "      <td>18</td>\n",
       "      <td>12.30</td>\n",
       "      <td>39</td>\n",
       "      <td>210</td>\n",
       "      <td>graduate</td>\n",
       "      <td>453</td>\n",
       "      <td>When it comes to a DM's screen, the space on t...</td>\n",
       "      <td>The fact that 50% of this space is wasted on a...</td>\n",
       "    </tr>\n",
       "    <tr>\n",
       "      <th>1</th>\n",
       "      <td>Male</td>\n",
       "      <td>23</td>\n",
       "      <td>12.30</td>\n",
       "      <td>81</td>\n",
       "      <td>524</td>\n",
       "      <td>graduate</td>\n",
       "      <td>466</td>\n",
       "      <td>An Open Letter to GaleForce9*:\\n\\nYour unpaint...</td>\n",
       "      <td>Another worthless Dungeon Master's screen from...</td>\n",
       "    </tr>\n",
       "    <tr>\n",
       "      <th>2</th>\n",
       "      <td>Female</td>\n",
       "      <td>22</td>\n",
       "      <td>13.12</td>\n",
       "      <td>6</td>\n",
       "      <td>40</td>\n",
       "      <td>graduate</td>\n",
       "      <td>254</td>\n",
       "      <td>Nice art, nice printing.  Why two panels are f...</td>\n",
       "      <td>pretty, but also pretty useless</td>\n",
       "    </tr>\n",
       "    <tr>\n",
       "      <th>3</th>\n",
       "      <td>Female</td>\n",
       "      <td>25</td>\n",
       "      <td>13.12</td>\n",
       "      <td>77</td>\n",
       "      <td>562</td>\n",
       "      <td>graduate</td>\n",
       "      <td>263</td>\n",
       "      <td>Amazing buy! Bought it as a gift for our new d...</td>\n",
       "      <td>Five Stars</td>\n",
       "    </tr>\n",
       "    <tr>\n",
       "      <th>4</th>\n",
       "      <td>Female</td>\n",
       "      <td>33</td>\n",
       "      <td>13.94</td>\n",
       "      <td>40</td>\n",
       "      <td>366</td>\n",
       "      <td>graduate</td>\n",
       "      <td>291</td>\n",
       "      <td>As my review of GF9's previous screens these w...</td>\n",
       "      <td>Money trap</td>\n",
       "    </tr>\n",
       "  </tbody>\n",
       "</table>\n",
       "</div>"
      ],
      "text/plain": [
       "   gender  age  remuneration  spending_score  loyalty_points education  \\\n",
       "0    Male   18         12.30              39             210  graduate   \n",
       "1    Male   23         12.30              81             524  graduate   \n",
       "2  Female   22         13.12               6              40  graduate   \n",
       "3  Female   25         13.12              77             562  graduate   \n",
       "4  Female   33         13.94              40             366  graduate   \n",
       "\n",
       "   product                                             review  \\\n",
       "0      453  When it comes to a DM's screen, the space on t...   \n",
       "1      466  An Open Letter to GaleForce9*:\\n\\nYour unpaint...   \n",
       "2      254  Nice art, nice printing.  Why two panels are f...   \n",
       "3      263  Amazing buy! Bought it as a gift for our new d...   \n",
       "4      291  As my review of GF9's previous screens these w...   \n",
       "\n",
       "                                             summary  \n",
       "0  The fact that 50% of this space is wasted on a...  \n",
       "1  Another worthless Dungeon Master's screen from...  \n",
       "2                    pretty, but also pretty useless  \n",
       "3                                         Five Stars  \n",
       "4                                         Money trap  "
      ]
     },
     "execution_count": 143,
     "metadata": {},
     "output_type": "execute_result"
    }
   ],
   "source": [
    "# load the csv file and create a dataframe\n",
    "reviews1 = pd.read_csv('C:/Users/keeni/Desktop/LSE Notes/Course 3 - Advanced Analytics for Organisational Impact/Assignment/reviews.csv')  \n",
    "\n",
    "# Print the DataFrame.\n",
    "reviews1.head() "
   ]
  },
  {
   "cell_type": "code",
   "execution_count": 94,
   "id": "3c6549df",
   "metadata": {},
   "outputs": [
    {
     "data": {
      "text/plain": [
       "(2000, 9)"
      ]
     },
     "execution_count": 94,
     "metadata": {},
     "output_type": "execute_result"
    }
   ],
   "source": [
    "reviews1.shape"
   ]
  },
  {
   "cell_type": "code",
   "execution_count": 95,
   "id": "6e7a3d27",
   "metadata": {},
   "outputs": [
    {
     "name": "stdout",
     "output_type": "stream",
     "text": [
      "<class 'pandas.core.frame.DataFrame'>\n",
      "RangeIndex: 2000 entries, 0 to 1999\n",
      "Data columns (total 9 columns):\n",
      " #   Column          Non-Null Count  Dtype  \n",
      "---  ------          --------------  -----  \n",
      " 0   gender          2000 non-null   object \n",
      " 1   age             2000 non-null   int64  \n",
      " 2   remuneration    2000 non-null   float64\n",
      " 3   spending_score  2000 non-null   int64  \n",
      " 4   loyalty_points  2000 non-null   int64  \n",
      " 5   education       2000 non-null   object \n",
      " 6   product         2000 non-null   int64  \n",
      " 7   review          2000 non-null   object \n",
      " 8   summary         2000 non-null   object \n",
      "dtypes: float64(1), int64(4), object(4)\n",
      "memory usage: 140.8+ KB\n"
     ]
    }
   ],
   "source": [
    "reviews1.info()"
   ]
  },
  {
   "cell_type": "markdown",
   "id": "cbe40211",
   "metadata": {},
   "source": [
    "# "
   ]
  },
  {
   "cell_type": "markdown",
   "id": "9354abca",
   "metadata": {},
   "source": [
    "# "
   ]
  },
  {
   "cell_type": "markdown",
   "id": "4d382612",
   "metadata": {},
   "source": [
    "# Linear Regression\n",
    "Evaluate possible linear relationships between:\n",
    "1. loyalty points and age\n",
    "1. loyalty points and remuneration \n",
    "1. loyalty points and spending scores<br>\n",
    "\n",
    "To determine whether these can be used to predict the loyalty points."
   ]
  },
  {
   "cell_type": "markdown",
   "id": "b3d6796d",
   "metadata": {},
   "source": [
    "#### LR for loyalty points and age"
   ]
  },
  {
   "cell_type": "code",
   "execution_count": 96,
   "id": "f521c91d",
   "metadata": {},
   "outputs": [
    {
     "data": {
      "text/plain": [
       "<matplotlib.collections.PathCollection at 0x1740dcbf7f0>"
      ]
     },
     "execution_count": 96,
     "metadata": {},
     "output_type": "execute_result"
    },
    {
     "data": {
      "image/png": "[encoded data removed]",
      "text/plain": [
       "<Figure size 432x288 with 1 Axes>"
      ]
     },
     "metadata": {
      "needs_background": "light"
     },
     "output_type": "display_data"
    }
   ],
   "source": [
    "# Define the dependent variable.\n",
    "y1 = reviews1['loyalty_points'] \n",
    "\n",
    "# Define the independent variable.\n",
    "x1 = reviews1['age'] \n",
    "\n",
    "# Check for linearity with Matplotlib.\n",
    "plt.scatter(x1, y1)"
   ]
  },
  {
   "cell_type": "code",
   "execution_count": 97,
   "id": "a4125389",
   "metadata": {},
   "outputs": [
    {
     "data": {
      "text/html": [
       "<table class=\"simpletable\">\n",
       "<caption>OLS Regression Results</caption>\n",
       "<tr>\n",
       "  <th>Dep. Variable:</th>           <td>y1</td>        <th>  R-squared:         </th> <td>   0.002</td> \n",
       "</tr>\n",
       "<tr>\n",
       "  <th>Model:</th>                   <td>OLS</td>       <th>  Adj. R-squared:    </th> <td>   0.001</td> \n",
       "</tr>\n",
       "<tr>\n",
       "  <th>Method:</th>             <td>Least Squares</td>  <th>  F-statistic:       </th> <td>   3.606</td> \n",
       "</tr>\n",
       "<tr>\n",
       "  <th>Date:</th>             <td>Fri, 23 Dec 2022</td> <th>  Prob (F-statistic):</th>  <td>0.0577</td>  \n",
       "</tr>\n",
       "<tr>\n",
       "  <th>Time:</th>                 <td>01:05:34</td>     <th>  Log-Likelihood:    </th> <td> -17150.</td> \n",
       "</tr>\n",
       "<tr>\n",
       "  <th>No. Observations:</th>      <td>  2000</td>      <th>  AIC:               </th> <td>3.430e+04</td>\n",
       "</tr>\n",
       "<tr>\n",
       "  <th>Df Residuals:</th>          <td>  1998</td>      <th>  BIC:               </th> <td>3.431e+04</td>\n",
       "</tr>\n",
       "<tr>\n",
       "  <th>Df Model:</th>              <td>     1</td>      <th>                     </th>     <td> </td>    \n",
       "</tr>\n",
       "<tr>\n",
       "  <th>Covariance Type:</th>      <td>nonrobust</td>    <th>                     </th>     <td> </td>    \n",
       "</tr>\n",
       "</table>\n",
       "<table class=\"simpletable\">\n",
       "<tr>\n",
       "      <td></td>         <th>coef</th>     <th>std err</th>      <th>t</th>      <th>P>|t|</th>  <th>[0.025</th>    <th>0.975]</th>  \n",
       "</tr>\n",
       "<tr>\n",
       "  <th>Intercept</th> <td> 1736.5177</td> <td>   88.249</td> <td>   19.678</td> <td> 0.000</td> <td> 1563.449</td> <td> 1909.587</td>\n",
       "</tr>\n",
       "<tr>\n",
       "  <th>x1</th>        <td>   -4.0128</td> <td>    2.113</td> <td>   -1.899</td> <td> 0.058</td> <td>   -8.157</td> <td>    0.131</td>\n",
       "</tr>\n",
       "</table>\n",
       "<table class=\"simpletable\">\n",
       "<tr>\n",
       "  <th>Omnibus:</th>       <td>481.477</td> <th>  Durbin-Watson:     </th> <td>   2.277</td> \n",
       "</tr>\n",
       "<tr>\n",
       "  <th>Prob(Omnibus):</th> <td> 0.000</td>  <th>  Jarque-Bera (JB):  </th> <td> 937.734</td> \n",
       "</tr>\n",
       "<tr>\n",
       "  <th>Skew:</th>          <td> 1.449</td>  <th>  Prob(JB):          </th> <td>2.36e-204</td>\n",
       "</tr>\n",
       "<tr>\n",
       "  <th>Kurtosis:</th>      <td> 4.688</td>  <th>  Cond. No.          </th> <td>    129.</td> \n",
       "</tr>\n",
       "</table><br/><br/>Notes:<br/>[1] Standard Errors assume that the covariance matrix of the errors is correctly specified."
      ],
      "text/plain": [
       "<class 'statsmodels.iolib.summary.Summary'>\n",
       "\"\"\"\n",
       "                            OLS Regression Results                            \n",
       "==============================================================================\n",
       "Dep. Variable:                     y1   R-squared:                       0.002\n",
       "Model:                            OLS   Adj. R-squared:                  0.001\n",
       "Method:                 Least Squares   F-statistic:                     3.606\n",
       "Date:                Fri, 23 Dec 2022   Prob (F-statistic):             0.0577\n",
       "Time:                        01:05:34   Log-Likelihood:                -17150.\n",
       "No. Observations:                2000   AIC:                         3.430e+04\n",
       "Df Residuals:                    1998   BIC:                         3.431e+04\n",
       "Df Model:                           1                                         \n",
       "Covariance Type:            nonrobust                                         \n",
       "==============================================================================\n",
       "                 coef    std err          t      P>|t|      [0.025      0.975]\n",
       "------------------------------------------------------------------------------\n",
       "Intercept   1736.5177     88.249     19.678      0.000    1563.449    1909.587\n",
       "x1            -4.0128      2.113     -1.899      0.058      -8.157       0.131\n",
       "==============================================================================\n",
       "Omnibus:                      481.477   Durbin-Watson:                   2.277\n",
       "Prob(Omnibus):                  0.000   Jarque-Bera (JB):              937.734\n",
       "Skew:                           1.449   Prob(JB):                    2.36e-204\n",
       "Kurtosis:                       4.688   Cond. No.                         129.\n",
       "==============================================================================\n",
       "\n",
       "Notes:\n",
       "[1] Standard Errors assume that the covariance matrix of the errors is correctly specified.\n",
       "\"\"\""
      ]
     },
     "execution_count": 97,
     "metadata": {},
     "output_type": "execute_result"
    }
   ],
   "source": [
    "# Create formula and pass through OLS methods.\n",
    "f = 'y1 ~ x1'\n",
    "test1 = ols(f, data = reviews1).fit()\n",
    "\n",
    "# Print the regression table.\n",
    "test1.summary() "
   ]
  },
  {
   "cell_type": "markdown",
   "id": "1e8940af",
   "metadata": {},
   "source": [
    "The R-squared is very low, i.e. the model cannot explain the variability of y (loyalty points) based on the variability of x (age)."
   ]
  },
  {
   "cell_type": "code",
   "execution_count": 98,
   "id": "d991d182",
   "metadata": {},
   "outputs": [
    {
     "name": "stdout",
     "output_type": "stream",
     "text": [
      "Parameters:  Intercept    1736.517739\n",
      "x1             -4.012805\n",
      "dtype: float64\n",
      "Standard errors:  Intercept    88.248731\n",
      "x1            2.113177\n",
      "dtype: float64\n",
      "Predicted values:  [1664.2872467  1644.22322095 1648.2360261  ... 1600.0823643  1600.0823643\n",
      " 1608.1079746 ]\n"
     ]
    }
   ],
   "source": [
    "# Extract the estimated parameters.\n",
    "print(\"Parameters: \", test1.params)  \n",
    "\n",
    "# Extract the standard errors.\n",
    "print(\"Standard errors: \", test1.bse)  \n",
    "\n",
    "# Extract the predicted values.\n",
    "print(\"Predicted values: \", test1.predict())  "
   ]
  },
  {
   "cell_type": "code",
   "execution_count": 167,
   "id": "732a06af",
   "metadata": {},
   "outputs": [
    {
     "data": {
      "text/plain": [
       "0       1664.287249\n",
       "1       1644.223224\n",
       "2       1648.236029\n",
       "3       1636.197614\n",
       "4       1604.095174\n",
       "           ...     \n",
       "1995    1588.043954\n",
       "1996    1563.967124\n",
       "1997    1600.082369\n",
       "1998    1600.082369\n",
       "1999    1608.107979\n",
       "Name: age, Length: 2000, dtype: float64"
      ]
     },
     "execution_count": 167,
     "metadata": {},
     "output_type": "execute_result"
    }
   ],
   "source": [
    "# Create the linear regression model.\n",
    "# Set the the coefficient to 1.0143 and the constant to -0.4618.\n",
    "y1_pred = (1736.517739) + (-4.012805) * reviews1['age']\n",
    "\n",
    "# View the output\n",
    "y1_pred"
   ]
  },
  {
   "cell_type": "code",
   "execution_count": 168,
   "id": "b0490d6d",
   "metadata": {},
   "outputs": [
    {
     "data": {
      "image/png": "[encoded data removed]",
      "text/plain": [
       "<Figure size 432x288 with 1 Axes>"
      ]
     },
     "metadata": {
      "needs_background": "light"
     },
     "output_type": "display_data"
    }
   ],
   "source": [
    "# Plot the data points with a scatterplot.\n",
    "plt.scatter(x1, y1)\n",
    "\n",
    "# Plot the regression line (in red).\n",
    "plt.plot(x1, y1_pred, color='red')\n",
    "\n",
    "# Set the x and y limits on the axes.\n",
    "plt.xlim(0)\n",
    "plt.ylim(0)\n",
    "\n",
    "# View the plot.\n",
    "plt.show()"
   ]
  },
  {
   "cell_type": "markdown",
   "id": "ac5a80ba",
   "metadata": {},
   "source": [
    "#### LR for loyalty points and remuneration"
   ]
  },
  {
   "cell_type": "code",
   "execution_count": 101,
   "id": "d4f65ab8",
   "metadata": {},
   "outputs": [
    {
     "data": {
      "text/plain": [
       "<matplotlib.collections.PathCollection at 0x1740ddeff40>"
      ]
     },
     "execution_count": 101,
     "metadata": {},
     "output_type": "execute_result"
    },
    {
     "data": {
      "image/png": "[encoded data removed]",
      "text/plain": [
       "<Figure size 432x288 with 1 Axes>"
      ]
     },
     "metadata": {
      "needs_background": "light"
     },
     "output_type": "display_data"
    }
   ],
   "source": [
    "# Define the dependent variable.\n",
    "y2 = reviews1['loyalty_points'] \n",
    "\n",
    "# Define the independent variable.\n",
    "x2 = reviews1['remuneration'] \n",
    "\n",
    "# Check for linearity with Matplotlib.\n",
    "plt.scatter(x2, y2)"
   ]
  },
  {
   "cell_type": "code",
   "execution_count": 102,
   "id": "f0dc98b1",
   "metadata": {},
   "outputs": [
    {
     "data": {
      "text/html": [
       "<table class=\"simpletable\">\n",
       "<caption>OLS Regression Results</caption>\n",
       "<tr>\n",
       "  <th>Dep. Variable:</th>           <td>y2</td>        <th>  R-squared:         </th> <td>   0.380</td> \n",
       "</tr>\n",
       "<tr>\n",
       "  <th>Model:</th>                   <td>OLS</td>       <th>  Adj. R-squared:    </th> <td>   0.379</td> \n",
       "</tr>\n",
       "<tr>\n",
       "  <th>Method:</th>             <td>Least Squares</td>  <th>  F-statistic:       </th> <td>   1222.</td> \n",
       "</tr>\n",
       "<tr>\n",
       "  <th>Date:</th>             <td>Fri, 23 Dec 2022</td> <th>  Prob (F-statistic):</th> <td>2.43e-209</td>\n",
       "</tr>\n",
       "<tr>\n",
       "  <th>Time:</th>                 <td>01:09:51</td>     <th>  Log-Likelihood:    </th> <td> -16674.</td> \n",
       "</tr>\n",
       "<tr>\n",
       "  <th>No. Observations:</th>      <td>  2000</td>      <th>  AIC:               </th> <td>3.335e+04</td>\n",
       "</tr>\n",
       "<tr>\n",
       "  <th>Df Residuals:</th>          <td>  1998</td>      <th>  BIC:               </th> <td>3.336e+04</td>\n",
       "</tr>\n",
       "<tr>\n",
       "  <th>Df Model:</th>              <td>     1</td>      <th>                     </th>     <td> </td>    \n",
       "</tr>\n",
       "<tr>\n",
       "  <th>Covariance Type:</th>      <td>nonrobust</td>    <th>                     </th>     <td> </td>    \n",
       "</tr>\n",
       "</table>\n",
       "<table class=\"simpletable\">\n",
       "<tr>\n",
       "      <td></td>         <th>coef</th>     <th>std err</th>      <th>t</th>      <th>P>|t|</th>  <th>[0.025</th>    <th>0.975]</th>  \n",
       "</tr>\n",
       "<tr>\n",
       "  <th>Intercept</th> <td>  -65.6865</td> <td>   52.171</td> <td>   -1.259</td> <td> 0.208</td> <td> -168.001</td> <td>   36.628</td>\n",
       "</tr>\n",
       "<tr>\n",
       "  <th>x2</th>        <td>   34.1878</td> <td>    0.978</td> <td>   34.960</td> <td> 0.000</td> <td>   32.270</td> <td>   36.106</td>\n",
       "</tr>\n",
       "</table>\n",
       "<table class=\"simpletable\">\n",
       "<tr>\n",
       "  <th>Omnibus:</th>       <td>21.285</td> <th>  Durbin-Watson:     </th> <td>   3.622</td>\n",
       "</tr>\n",
       "<tr>\n",
       "  <th>Prob(Omnibus):</th> <td> 0.000</td> <th>  Jarque-Bera (JB):  </th> <td>  31.715</td>\n",
       "</tr>\n",
       "<tr>\n",
       "  <th>Skew:</th>          <td> 0.089</td> <th>  Prob(JB):          </th> <td>1.30e-07</td>\n",
       "</tr>\n",
       "<tr>\n",
       "  <th>Kurtosis:</th>      <td> 3.590</td> <th>  Cond. No.          </th> <td>    123.</td>\n",
       "</tr>\n",
       "</table><br/><br/>Notes:<br/>[1] Standard Errors assume that the covariance matrix of the errors is correctly specified."
      ],
      "text/plain": [
       "<class 'statsmodels.iolib.summary.Summary'>\n",
       "\"\"\"\n",
       "                            OLS Regression Results                            \n",
       "==============================================================================\n",
       "Dep. Variable:                     y2   R-squared:                       0.380\n",
       "Model:                            OLS   Adj. R-squared:                  0.379\n",
       "Method:                 Least Squares   F-statistic:                     1222.\n",
       "Date:                Fri, 23 Dec 2022   Prob (F-statistic):          2.43e-209\n",
       "Time:                        01:09:51   Log-Likelihood:                -16674.\n",
       "No. Observations:                2000   AIC:                         3.335e+04\n",
       "Df Residuals:                    1998   BIC:                         3.336e+04\n",
       "Df Model:                           1                                         \n",
       "Covariance Type:            nonrobust                                         \n",
       "==============================================================================\n",
       "                 coef    std err          t      P>|t|      [0.025      0.975]\n",
       "------------------------------------------------------------------------------\n",
       "Intercept    -65.6865     52.171     -1.259      0.208    -168.001      36.628\n",
       "x2            34.1878      0.978     34.960      0.000      32.270      36.106\n",
       "==============================================================================\n",
       "Omnibus:                       21.285   Durbin-Watson:                   3.622\n",
       "Prob(Omnibus):                  0.000   Jarque-Bera (JB):               31.715\n",
       "Skew:                           0.089   Prob(JB):                     1.30e-07\n",
       "Kurtosis:                       3.590   Cond. No.                         123.\n",
       "==============================================================================\n",
       "\n",
       "Notes:\n",
       "[1] Standard Errors assume that the covariance matrix of the errors is correctly specified.\n",
       "\"\"\""
      ]
     },
     "execution_count": 102,
     "metadata": {},
     "output_type": "execute_result"
    }
   ],
   "source": [
    "# Create formula and pass through OLS methods.\n",
    "f = 'y2 ~ x2'\n",
    "test2 = ols(f, data = reviews1).fit()\n",
    "\n",
    "# Print the regression table.\n",
    "test2.summary() "
   ]
  },
  {
   "cell_type": "markdown",
   "id": "cdfb29e7",
   "metadata": {},
   "source": [
    "R-squared sys that less than 40% of the variations of y can be explained from the variations of x. <br>\n",
    "The Prob (F-statistic), p-value, is less than 0.05.\n",
    "The model is not very good."
   ]
  },
  {
   "cell_type": "code",
   "execution_count": 103,
   "id": "78459ae4",
   "metadata": {},
   "outputs": [
    {
     "name": "stdout",
     "output_type": "stream",
     "text": [
      "Parameters:  Intercept   -65.686513\n",
      "x2           34.187825\n",
      "dtype: float64\n",
      "Standard errors:  Intercept    52.170717\n",
      "x2            0.977925\n",
      "dtype: float64\n",
      "Predicted values:  [ 354.82374068  354.82374068  382.85775758 ... 3102.15739671 3298.39551499\n",
      " 3102.15739671]\n"
     ]
    }
   ],
   "source": [
    "# Extract the estimated parameters.\n",
    "print(\"Parameters: \", test2.params)  \n",
    "\n",
    "# Extract the standard errors.\n",
    "print(\"Standard errors: \", test2.bse)  \n",
    "\n",
    "# Extract the predicted values.\n",
    "print(\"Predicted values: \", test2.predict())  "
   ]
  },
  {
   "cell_type": "code",
   "execution_count": 169,
   "id": "99167e24",
   "metadata": {},
   "outputs": [
    {
     "data": {
      "text/plain": [
       "0        354.823735\n",
       "1        354.823735\n",
       "2        382.857751\n",
       "3        382.857751\n",
       "4        410.891767\n",
       "           ...     \n",
       "1995    2821.817186\n",
       "1996    3102.157351\n",
       "1997    3102.157351\n",
       "1998    3298.395467\n",
       "1999    3102.157351\n",
       "Name: remuneration, Length: 2000, dtype: float64"
      ]
     },
     "execution_count": 169,
     "metadata": {},
     "output_type": "execute_result"
    }
   ],
   "source": [
    "# Create the linear regression model.\n",
    "# Set the the coefficient to 1.0143 and the constant to -0.4618.\n",
    "y2_pred = (-65.686513) + 34.187825 * reviews1['remuneration']\n",
    "\n",
    "# View the output\n",
    "y2_pred"
   ]
  },
  {
   "cell_type": "code",
   "execution_count": 170,
   "id": "30e7672d",
   "metadata": {
    "scrolled": true
   },
   "outputs": [
    {
     "data": {
      "image/png": "[encoded data removed]",
      "text/plain": [
       "<Figure size 432x288 with 1 Axes>"
      ]
     },
     "metadata": {
      "needs_background": "light"
     },
     "output_type": "display_data"
    }
   ],
   "source": [
    "# Plot the data points with a scatterplot.\n",
    "plt.scatter(x2, y2)\n",
    "\n",
    "# Plot the regression line (in red).\n",
    "plt.plot(x2, y2_pred, color='red')\n",
    "\n",
    "# Set the x and y limits on the axes.\n",
    "plt.xlim(0)\n",
    "plt.ylim(0)\n",
    "\n",
    "# View the plot.\n",
    "plt.show()"
   ]
  },
  {
   "cell_type": "markdown",
   "id": "771ccdf5",
   "metadata": {},
   "source": [
    "#### LR for loyalty points and spending scores"
   ]
  },
  {
   "cell_type": "code",
   "execution_count": 106,
   "id": "bd4eb650",
   "metadata": {},
   "outputs": [
    {
     "data": {
      "text/plain": [
       "<matplotlib.collections.PathCollection at 0x1740de8b280>"
      ]
     },
     "execution_count": 106,
     "metadata": {},
     "output_type": "execute_result"
    },
    {
     "data": {
      "image/png": "[encoded data removed]",
      "text/plain": [
       "<Figure size 432x288 with 1 Axes>"
      ]
     },
     "metadata": {
      "needs_background": "light"
     },
     "output_type": "display_data"
    }
   ],
   "source": [
    "# Define the dependent variable.\n",
    "y3 = reviews1['loyalty_points'] \n",
    "\n",
    "# Define the independent variable.\n",
    "x3 = reviews1['spending_score'] \n",
    "\n",
    "# Check for linearity with Matplotlib.\n",
    "plt.scatter(x3, y3)"
   ]
  },
  {
   "cell_type": "code",
   "execution_count": 107,
   "id": "49ab2de9",
   "metadata": {},
   "outputs": [
    {
     "data": {
      "text/html": [
       "<table class=\"simpletable\">\n",
       "<caption>OLS Regression Results</caption>\n",
       "<tr>\n",
       "  <th>Dep. Variable:</th>           <td>y3</td>        <th>  R-squared:         </th> <td>   0.452</td> \n",
       "</tr>\n",
       "<tr>\n",
       "  <th>Model:</th>                   <td>OLS</td>       <th>  Adj. R-squared:    </th> <td>   0.452</td> \n",
       "</tr>\n",
       "<tr>\n",
       "  <th>Method:</th>             <td>Least Squares</td>  <th>  F-statistic:       </th> <td>   1648.</td> \n",
       "</tr>\n",
       "<tr>\n",
       "  <th>Date:</th>             <td>Fri, 23 Dec 2022</td> <th>  Prob (F-statistic):</th> <td>2.92e-263</td>\n",
       "</tr>\n",
       "<tr>\n",
       "  <th>Time:</th>                 <td>01:10:45</td>     <th>  Log-Likelihood:    </th> <td> -16550.</td> \n",
       "</tr>\n",
       "<tr>\n",
       "  <th>No. Observations:</th>      <td>  2000</td>      <th>  AIC:               </th> <td>3.310e+04</td>\n",
       "</tr>\n",
       "<tr>\n",
       "  <th>Df Residuals:</th>          <td>  1998</td>      <th>  BIC:               </th> <td>3.312e+04</td>\n",
       "</tr>\n",
       "<tr>\n",
       "  <th>Df Model:</th>              <td>     1</td>      <th>                     </th>     <td> </td>    \n",
       "</tr>\n",
       "<tr>\n",
       "  <th>Covariance Type:</th>      <td>nonrobust</td>    <th>                     </th>     <td> </td>    \n",
       "</tr>\n",
       "</table>\n",
       "<table class=\"simpletable\">\n",
       "<tr>\n",
       "      <td></td>         <th>coef</th>     <th>std err</th>      <th>t</th>      <th>P>|t|</th>  <th>[0.025</th>    <th>0.975]</th>  \n",
       "</tr>\n",
       "<tr>\n",
       "  <th>Intercept</th> <td>  -75.0527</td> <td>   45.931</td> <td>   -1.634</td> <td> 0.102</td> <td> -165.129</td> <td>   15.024</td>\n",
       "</tr>\n",
       "<tr>\n",
       "  <th>x3</th>        <td>   33.0617</td> <td>    0.814</td> <td>   40.595</td> <td> 0.000</td> <td>   31.464</td> <td>   34.659</td>\n",
       "</tr>\n",
       "</table>\n",
       "<table class=\"simpletable\">\n",
       "<tr>\n",
       "  <th>Omnibus:</th>       <td>126.554</td> <th>  Durbin-Watson:     </th> <td>   1.191</td>\n",
       "</tr>\n",
       "<tr>\n",
       "  <th>Prob(Omnibus):</th> <td> 0.000</td>  <th>  Jarque-Bera (JB):  </th> <td> 260.528</td>\n",
       "</tr>\n",
       "<tr>\n",
       "  <th>Skew:</th>          <td> 0.422</td>  <th>  Prob(JB):          </th> <td>2.67e-57</td>\n",
       "</tr>\n",
       "<tr>\n",
       "  <th>Kurtosis:</th>      <td> 4.554</td>  <th>  Cond. No.          </th> <td>    122.</td>\n",
       "</tr>\n",
       "</table><br/><br/>Notes:<br/>[1] Standard Errors assume that the covariance matrix of the errors is correctly specified."
      ],
      "text/plain": [
       "<class 'statsmodels.iolib.summary.Summary'>\n",
       "\"\"\"\n",
       "                            OLS Regression Results                            \n",
       "==============================================================================\n",
       "Dep. Variable:                     y3   R-squared:                       0.452\n",
       "Model:                            OLS   Adj. R-squared:                  0.452\n",
       "Method:                 Least Squares   F-statistic:                     1648.\n",
       "Date:                Fri, 23 Dec 2022   Prob (F-statistic):          2.92e-263\n",
       "Time:                        01:10:45   Log-Likelihood:                -16550.\n",
       "No. Observations:                2000   AIC:                         3.310e+04\n",
       "Df Residuals:                    1998   BIC:                         3.312e+04\n",
       "Df Model:                           1                                         \n",
       "Covariance Type:            nonrobust                                         \n",
       "==============================================================================\n",
       "                 coef    std err          t      P>|t|      [0.025      0.975]\n",
       "------------------------------------------------------------------------------\n",
       "Intercept    -75.0527     45.931     -1.634      0.102    -165.129      15.024\n",
       "x3            33.0617      0.814     40.595      0.000      31.464      34.659\n",
       "==============================================================================\n",
       "Omnibus:                      126.554   Durbin-Watson:                   1.191\n",
       "Prob(Omnibus):                  0.000   Jarque-Bera (JB):              260.528\n",
       "Skew:                           0.422   Prob(JB):                     2.67e-57\n",
       "Kurtosis:                       4.554   Cond. No.                         122.\n",
       "==============================================================================\n",
       "\n",
       "Notes:\n",
       "[1] Standard Errors assume that the covariance matrix of the errors is correctly specified.\n",
       "\"\"\""
      ]
     },
     "execution_count": 107,
     "metadata": {},
     "output_type": "execute_result"
    }
   ],
   "source": [
    "# Create formula and pass through OLS methods.\n",
    "f = 'y3 ~ x3'\n",
    "test3 = ols(f, data = reviews1).fit()\n",
    "\n",
    "# Print the regression table.\n",
    "test3.summary() "
   ]
  },
  {
   "cell_type": "markdown",
   "id": "64e687bd",
   "metadata": {},
   "source": [
    "R-squared says that less than 45% of the variations of y can be explained from the variations of x.\n",
    "The Prob (F-statistic), p-value, is less than 0.05. The model is not very good but it is the best one seen so far."
   ]
  },
  {
   "cell_type": "code",
   "execution_count": 108,
   "id": "caee5bb9",
   "metadata": {},
   "outputs": [
    {
     "name": "stdout",
     "output_type": "stream",
     "text": [
      "Parameters:  Intercept   -75.052663\n",
      "x3           33.061693\n",
      "dtype: float64\n",
      "Standard errors:  Intercept    45.930554\n",
      "x3            0.814419\n",
      "dtype: float64\n",
      "Predicted values:  [1214.35337415 2602.94449102  123.31749662 ... 2933.56142361  453.93442921\n",
      "  189.44088314]\n"
     ]
    }
   ],
   "source": [
    "# Extract the estimated parameters.\n",
    "print(\"Parameters: \", test3.params)  \n",
    "\n",
    "# Extract the standard errors.\n",
    "print(\"Standard errors: \", test3.bse)  \n",
    "\n",
    "# Extract the predicted values.\n",
    "print(\"Predicted values: \", test3.predict())  "
   ]
  },
  {
   "cell_type": "code",
   "execution_count": 171,
   "id": "d540229f",
   "metadata": {},
   "outputs": [
    {
     "data": {
      "text/plain": [
       "0       1214.353364\n",
       "1       2602.944470\n",
       "2        123.317495\n",
       "3       2470.697698\n",
       "4       1247.415057\n",
       "           ...     \n",
       "1995    2206.204154\n",
       "1996     189.440881\n",
       "1997    2933.561400\n",
       "1998     453.934425\n",
       "1999     189.440881\n",
       "Name: spending_score, Length: 2000, dtype: float64"
      ]
     },
     "execution_count": 171,
     "metadata": {},
     "output_type": "execute_result"
    }
   ],
   "source": [
    "# Create the linear regression model.\n",
    "# Set the the coefficient to 1.0143 and the constant to -0.4618.\n",
    "y3_pred = (-75.052663) + 33.061693 * reviews1['spending_score']\n",
    "\n",
    "# View the output\n",
    "y3_pred"
   ]
  },
  {
   "cell_type": "code",
   "execution_count": 172,
   "id": "72917a43",
   "metadata": {
    "scrolled": true
   },
   "outputs": [
    {
     "data": {
      "image/png": "[encoded data removed]",
      "text/plain": [
       "<Figure size 432x288 with 1 Axes>"
      ]
     },
     "metadata": {
      "needs_background": "light"
     },
     "output_type": "display_data"
    }
   ],
   "source": [
    "# Plot the data points with a scatterplot.\n",
    "plt.scatter(x3, y3)\n",
    "\n",
    "# Plot the regression line (in red).\n",
    "plt.plot(x3, y3_pred, color='red')\n",
    "\n",
    "# Set the x and y limits on the axes.\n",
    "plt.xlim(0)\n",
    "plt.ylim(0)\n",
    "\n",
    "# View the plot.\n",
    "plt.show()"
   ]
  },
  {
   "cell_type": "markdown",
   "id": "695b556f",
   "metadata": {},
   "source": [
    "# "
   ]
  },
  {
   "cell_type": "markdown",
   "id": "a74ac050",
   "metadata": {},
   "source": [
    "# "
   ]
  },
  {
   "cell_type": "markdown",
   "id": "e9028616",
   "metadata": {},
   "source": [
    "# Multiple Linear Regression"
   ]
  },
  {
   "cell_type": "code",
   "execution_count": 111,
   "id": "572b32b7",
   "metadata": {},
   "outputs": [],
   "source": [
    "# Define the dependent variable.\n",
    "y = reviews1['loyalty_points']  \n",
    "\n",
    "# Define the independent variables.\n",
    "X = reviews1[['age', 'remuneration', 'spending_score']] "
   ]
  },
  {
   "cell_type": "code",
   "execution_count": 173,
   "id": "7caf95a7",
   "metadata": {},
   "outputs": [
    {
     "data": {
      "text/html": [
       "<style>#sk-container-id-8 {color: black;background-color: white;}#sk-container-id-8 pre{padding: 0;}#sk-container-id-8 div.sk-toggleable {background-color: white;}#sk-container-id-8 label.sk-toggleable__label {cursor: pointer;display: block;width: 100%;margin-bottom: 0;padding: 0.3em;box-sizing: border-box;text-align: center;}#sk-container-id-8 label.sk-toggleable__label-arrow:before {content: \"▸\";float: left;margin-right: 0.25em;color: #696969;}#sk-container-id-8 label.sk-toggleable__label-arrow:hover:before {color: black;}#sk-container-id-8 div.sk-estimator:hover label.sk-toggleable__label-arrow:before {color: black;}#sk-container-id-8 div.sk-toggleable__content {max-height: 0;max-width: 0;overflow: hidden;text-align: left;background-color: #f0f8ff;}#sk-container-id-8 div.sk-toggleable__content pre {margin: 0.2em;color: black;border-radius: 0.25em;background-color: #f0f8ff;}#sk-container-id-8 input.sk-toggleable__control:checked~div.sk-toggleable__content {max-height: 200px;max-width: 100%;overflow: auto;}#sk-container-id-8 input.sk-toggleable__control:checked~label.sk-toggleable__label-arrow:before {content: \"▾\";}#sk-container-id-8 div.sk-estimator input.sk-toggleable__control:checked~label.sk-toggleable__label {background-color: #d4ebff;}#sk-container-id-8 div.sk-label input.sk-toggleable__control:checked~label.sk-toggleable__label {background-color: #d4ebff;}#sk-container-id-8 input.sk-hidden--visually {border: 0;clip: rect(1px 1px 1px 1px);clip: rect(1px, 1px, 1px, 1px);height: 1px;margin: -1px;overflow: hidden;padding: 0;position: absolute;width: 1px;}#sk-container-id-8 div.sk-estimator {font-family: monospace;background-color: #f0f8ff;border: 1px dotted black;border-radius: 0.25em;box-sizing: border-box;margin-bottom: 0.5em;}#sk-container-id-8 div.sk-estimator:hover {background-color: #d4ebff;}#sk-container-id-8 div.sk-parallel-item::after {content: \"\";width: 100%;border-bottom: 1px solid gray;flex-grow: 1;}#sk-container-id-8 div.sk-label:hover label.sk-toggleable__label {background-color: #d4ebff;}#sk-container-id-8 div.sk-serial::before {content: \"\";position: absolute;border-left: 1px solid gray;box-sizing: border-box;top: 0;bottom: 0;left: 50%;z-index: 0;}#sk-container-id-8 div.sk-serial {display: flex;flex-direction: column;align-items: center;background-color: white;padding-right: 0.2em;padding-left: 0.2em;position: relative;}#sk-container-id-8 div.sk-item {position: relative;z-index: 1;}#sk-container-id-8 div.sk-parallel {display: flex;align-items: stretch;justify-content: center;background-color: white;position: relative;}#sk-container-id-8 div.sk-item::before, #sk-container-id-8 div.sk-parallel-item::before {content: \"\";position: absolute;border-left: 1px solid gray;box-sizing: border-box;top: 0;bottom: 0;left: 50%;z-index: -1;}#sk-container-id-8 div.sk-parallel-item {display: flex;flex-direction: column;z-index: 1;position: relative;background-color: white;}#sk-container-id-8 div.sk-parallel-item:first-child::after {align-self: flex-end;width: 50%;}#sk-container-id-8 div.sk-parallel-item:last-child::after {align-self: flex-start;width: 50%;}#sk-container-id-8 div.sk-parallel-item:only-child::after {width: 0;}#sk-container-id-8 div.sk-dashed-wrapped {border: 1px dashed gray;margin: 0 0.4em 0.5em 0.4em;box-sizing: border-box;padding-bottom: 0.4em;background-color: white;}#sk-container-id-8 div.sk-label label {font-family: monospace;font-weight: bold;display: inline-block;line-height: 1.2em;}#sk-container-id-8 div.sk-label-container {text-align: center;}#sk-container-id-8 div.sk-container {/* jupyter's `normalize.less` sets `[hidden] { display: none; }` but bootstrap.min.css set `[hidden] { display: none !important; }` so we also need the `!important` here to be able to override the default hidden behavior on the sphinx rendered scikit-learn.org. See: https://github.com/scikit-learn/scikit-learn/issues/21755 */display: inline-block !important;position: relative;}#sk-container-id-8 div.sk-text-repr-fallback {display: none;}</style><div id=\"sk-container-id-8\" class=\"sk-top-container\"><div class=\"sk-text-repr-fallback\"><pre>LinearRegression()</pre><b>In a Jupyter environment, please rerun this cell to show the HTML representation or trust the notebook. <br />On GitHub, the HTML representation is unable to render, please try loading this page with nbviewer.org.</b></div><div class=\"sk-container\" hidden><div class=\"sk-item\"><div class=\"sk-estimator sk-toggleable\"><input class=\"sk-toggleable__control sk-hidden--visually\" id=\"sk-estimator-id-8\" type=\"checkbox\" checked><label for=\"sk-estimator-id-8\" class=\"sk-toggleable__label sk-toggleable__label-arrow\">LinearRegression</label><div class=\"sk-toggleable__content\"><pre>LinearRegression()</pre></div></div></div></div></div>"
      ],
      "text/plain": [
       "LinearRegression()"
      ]
     },
     "execution_count": 173,
     "metadata": {},
     "output_type": "execute_result"
    }
   ],
   "source": [
    "# Fit the regression model.\n",
    "mlr = linear_model.LinearRegression()\n",
    "mlr.fit(X, y) "
   ]
  },
  {
   "cell_type": "code",
   "execution_count": 113,
   "id": "56f6f5bc",
   "metadata": {},
   "outputs": [
    {
     "data": {
      "text/plain": [
       "array([ -252.52008641,  1238.47746341, -1308.43606252, ...,\n",
       "        4434.8905332 ,  2066.35892261,  1575.56389984])"
      ]
     },
     "execution_count": 113,
     "metadata": {},
     "output_type": "execute_result"
    }
   ],
   "source": [
    "# Call the predictions for X (array).\n",
    "mlr.predict(X) "
   ]
  },
  {
   "cell_type": "code",
   "execution_count": 114,
   "id": "a565982e",
   "metadata": {},
   "outputs": [
    {
     "name": "stdout",
     "output_type": "stream",
     "text": [
      "R-squared:  0.8399114912748796\n",
      "Intercept:  -2203.0597513079\n",
      "Coefficients:\n"
     ]
    },
    {
     "data": {
      "text/plain": [
       "[('age', 11.060658711843358),\n",
       " ('remuneration', 34.008385492602486),\n",
       " ('spending_score', 34.183196577633645)]"
      ]
     },
     "execution_count": 114,
     "metadata": {},
     "output_type": "execute_result"
    }
   ],
   "source": [
    "# Print the R-squared value.\n",
    "print(\"R-squared: \", mlr.score(X,y))  \n",
    "\n",
    "# Print the intercept.\n",
    "print(\"Intercept: \", mlr.intercept_) \n",
    "\n",
    "# Print the coefficients.\n",
    "print(\"Coefficients:\")  \n",
    "\n",
    "# Map a similar index of multiple containers (to be used as a single entity).\n",
    "list(zip(X, mlr.coef_)) "
   ]
  },
  {
   "cell_type": "markdown",
   "id": "05b1efbf",
   "metadata": {},
   "source": [
    "#### Make predictions"
   ]
  },
  {
   "cell_type": "code",
   "execution_count": 116,
   "id": "6f3d47be",
   "metadata": {},
   "outputs": [
    {
     "name": "stdout",
     "output_type": "stream",
     "text": [
      "Predicted Value of loyalty_points: \n",
      " [1850.42149343]\n"
     ]
    },
    {
     "name": "stderr",
     "output_type": "stream",
     "text": [
      "C:\\Users\\keeni\\AppData\\Roaming\\Python\\Python39\\site-packages\\sklearn\\base.py:450: UserWarning: X does not have valid feature names, but LinearRegression was fitted with feature names\n",
      "  warnings.warn(\n"
     ]
    }
   ],
   "source": [
    "# Create a variable 'New_age' and define it as 43.\n",
    "New_age = 43\n",
    "\n",
    "# Create 'New_remuneration' and define it as 65.\n",
    "New_remuneration = 65  \n",
    "\n",
    "# Create 'New_spending_score' and define it as 40.\n",
    "New_spending_score = 40\n",
    "\n",
    "# Print the predicted value. \n",
    "print (\"Predicted Value of loyalty_points: \\n\", mlr.predict([[New_age ,New_remuneration ,New_spending_score]]))  "
   ]
  },
  {
   "cell_type": "markdown",
   "id": "ed1c7039",
   "metadata": {},
   "source": [
    "#### Train and test subsets with (MLR) multiple linear regression"
   ]
  },
  {
   "cell_type": "code",
   "execution_count": 125,
   "id": "76dda9e7",
   "metadata": {},
   "outputs": [],
   "source": [
    "# Split the data in 'train' (80%) and 'test' (20%) sets.\n",
    "X_train, X_test, Y_train, Y_test = sklearn.model_selection.train_test_split(X, y,\n",
    "                                                                            test_size = 0.20,\n",
    "                                                                            random_state = 5)"
   ]
  },
  {
   "cell_type": "code",
   "execution_count": 126,
   "id": "539ee4a5",
   "metadata": {},
   "outputs": [
    {
     "name": "stdout",
     "output_type": "stream",
     "text": [
      "                            OLS Regression Results                            \n",
      "==============================================================================\n",
      "Dep. Variable:         loyalty_points   R-squared:                       0.834\n",
      "Model:                            OLS   Adj. R-squared:                  0.833\n",
      "Method:                 Least Squares   F-statistic:                     2330.\n",
      "Date:                Fri, 23 Dec 2022   Prob (F-statistic):               0.00\n",
      "Time:                        01:20:40   Log-Likelihood:                -10695.\n",
      "No. Observations:                1400   AIC:                         2.140e+04\n",
      "Df Residuals:                    1396   BIC:                         2.142e+04\n",
      "Df Model:                           3                                         \n",
      "Covariance Type:            nonrobust                                         \n",
      "==================================================================================\n",
      "                     coef    std err          t      P>|t|      [0.025      0.975]\n",
      "----------------------------------------------------------------------------------\n",
      "const          -2224.7503     62.932    -35.351      0.000   -2348.203   -2101.298\n",
      "age               11.3554      1.005     11.300      0.000       9.384      13.327\n",
      "remuneration      33.4961      0.589     56.865      0.000      32.341      34.652\n",
      "spending_score    34.3723      0.539     63.826      0.000      33.316      35.429\n",
      "==============================================================================\n",
      "Omnibus:                       19.044   Durbin-Watson:                   1.985\n",
      "Prob(Omnibus):                  0.000   Jarque-Bera (JB):               21.107\n",
      "Skew:                           0.232   Prob(JB):                     2.61e-05\n",
      "Kurtosis:                       3.384   Cond. No.                         386.\n",
      "==============================================================================\n",
      "\n",
      "Notes:\n",
      "[1] Standard Errors assume that the covariance matrix of the errors is correctly specified.\n"
     ]
    }
   ],
   "source": [
    "# Training the model using the 'statsmodel' OLS library.\n",
    "# Fit the model with the added constant.\n",
    "model = sm.OLS(Y_train, sm.add_constant(X_train)).fit()\n",
    "\n",
    "# Set the predicted response vector.\n",
    "Y_pred = model.predict(sm.add_constant(X_test)) \n",
    "\n",
    "# Call a summary of the model.\n",
    "print_model = model.summary()\n",
    "\n",
    "# Print the summary.\n",
    "print(print_model)  "
   ]
  },
  {
   "cell_type": "markdown",
   "id": "1b0ceecb",
   "metadata": {},
   "source": [
    "#### Run a regression test"
   ]
  },
  {
   "cell_type": "code",
   "execution_count": 127,
   "id": "6aceacc4",
   "metadata": {},
   "outputs": [
    {
     "data": {
      "text/html": [
       "<style>#sk-container-id-5 {color: black;background-color: white;}#sk-container-id-5 pre{padding: 0;}#sk-container-id-5 div.sk-toggleable {background-color: white;}#sk-container-id-5 label.sk-toggleable__label {cursor: pointer;display: block;width: 100%;margin-bottom: 0;padding: 0.3em;box-sizing: border-box;text-align: center;}#sk-container-id-5 label.sk-toggleable__label-arrow:before {content: \"▸\";float: left;margin-right: 0.25em;color: #696969;}#sk-container-id-5 label.sk-toggleable__label-arrow:hover:before {color: black;}#sk-container-id-5 div.sk-estimator:hover label.sk-toggleable__label-arrow:before {color: black;}#sk-container-id-5 div.sk-toggleable__content {max-height: 0;max-width: 0;overflow: hidden;text-align: left;background-color: #f0f8ff;}#sk-container-id-5 div.sk-toggleable__content pre {margin: 0.2em;color: black;border-radius: 0.25em;background-color: #f0f8ff;}#sk-container-id-5 input.sk-toggleable__control:checked~div.sk-toggleable__content {max-height: 200px;max-width: 100%;overflow: auto;}#sk-container-id-5 input.sk-toggleable__control:checked~label.sk-toggleable__label-arrow:before {content: \"▾\";}#sk-container-id-5 div.sk-estimator input.sk-toggleable__control:checked~label.sk-toggleable__label {background-color: #d4ebff;}#sk-container-id-5 div.sk-label input.sk-toggleable__control:checked~label.sk-toggleable__label {background-color: #d4ebff;}#sk-container-id-5 input.sk-hidden--visually {border: 0;clip: rect(1px 1px 1px 1px);clip: rect(1px, 1px, 1px, 1px);height: 1px;margin: -1px;overflow: hidden;padding: 0;position: absolute;width: 1px;}#sk-container-id-5 div.sk-estimator {font-family: monospace;background-color: #f0f8ff;border: 1px dotted black;border-radius: 0.25em;box-sizing: border-box;margin-bottom: 0.5em;}#sk-container-id-5 div.sk-estimator:hover {background-color: #d4ebff;}#sk-container-id-5 div.sk-parallel-item::after {content: \"\";width: 100%;border-bottom: 1px solid gray;flex-grow: 1;}#sk-container-id-5 div.sk-label:hover label.sk-toggleable__label {background-color: #d4ebff;}#sk-container-id-5 div.sk-serial::before {content: \"\";position: absolute;border-left: 1px solid gray;box-sizing: border-box;top: 0;bottom: 0;left: 50%;z-index: 0;}#sk-container-id-5 div.sk-serial {display: flex;flex-direction: column;align-items: center;background-color: white;padding-right: 0.2em;padding-left: 0.2em;position: relative;}#sk-container-id-5 div.sk-item {position: relative;z-index: 1;}#sk-container-id-5 div.sk-parallel {display: flex;align-items: stretch;justify-content: center;background-color: white;position: relative;}#sk-container-id-5 div.sk-item::before, #sk-container-id-5 div.sk-parallel-item::before {content: \"\";position: absolute;border-left: 1px solid gray;box-sizing: border-box;top: 0;bottom: 0;left: 50%;z-index: -1;}#sk-container-id-5 div.sk-parallel-item {display: flex;flex-direction: column;z-index: 1;position: relative;background-color: white;}#sk-container-id-5 div.sk-parallel-item:first-child::after {align-self: flex-end;width: 50%;}#sk-container-id-5 div.sk-parallel-item:last-child::after {align-self: flex-start;width: 50%;}#sk-container-id-5 div.sk-parallel-item:only-child::after {width: 0;}#sk-container-id-5 div.sk-dashed-wrapped {border: 1px dashed gray;margin: 0 0.4em 0.5em 0.4em;box-sizing: border-box;padding-bottom: 0.4em;background-color: white;}#sk-container-id-5 div.sk-label label {font-family: monospace;font-weight: bold;display: inline-block;line-height: 1.2em;}#sk-container-id-5 div.sk-label-container {text-align: center;}#sk-container-id-5 div.sk-container {/* jupyter's `normalize.less` sets `[hidden] { display: none; }` but bootstrap.min.css set `[hidden] { display: none !important; }` so we also need the `!important` here to be able to override the default hidden behavior on the sphinx rendered scikit-learn.org. See: https://github.com/scikit-learn/scikit-learn/issues/21755 */display: inline-block !important;position: relative;}#sk-container-id-5 div.sk-text-repr-fallback {display: none;}</style><div id=\"sk-container-id-5\" class=\"sk-top-container\"><div class=\"sk-text-repr-fallback\"><pre>LinearRegression()</pre><b>In a Jupyter environment, please rerun this cell to show the HTML representation or trust the notebook. <br />On GitHub, the HTML representation is unable to render, please try loading this page with nbviewer.org.</b></div><div class=\"sk-container\" hidden><div class=\"sk-item\"><div class=\"sk-estimator sk-toggleable\"><input class=\"sk-toggleable__control sk-hidden--visually\" id=\"sk-estimator-id-5\" type=\"checkbox\" checked><label for=\"sk-estimator-id-5\" class=\"sk-toggleable__label sk-toggleable__label-arrow\">LinearRegression</label><div class=\"sk-toggleable__content\"><pre>LinearRegression()</pre></div></div></div></div></div>"
      ],
      "text/plain": [
       "LinearRegression()"
      ]
     },
     "execution_count": 127,
     "metadata": {},
     "output_type": "execute_result"
    }
   ],
   "source": [
    "# Specify the model.\n",
    "mlr = LinearRegression()  \n",
    "\n",
    "# Fit the model. We can only fit the model with the training data set.\n",
    "mlr.fit(X_train, Y_train)  "
   ]
  },
  {
   "cell_type": "code",
   "execution_count": 128,
   "id": "6ce714fc",
   "metadata": {},
   "outputs": [
    {
     "name": "stdout",
     "output_type": "stream",
     "text": [
      "Prediction for test set: [ -252.33605441  3306.0966873    355.91248089 ...  1414.72077789\n",
      " -1103.96584605  1538.39999056]\n"
     ]
    }
   ],
   "source": [
    "# Call the predictions for X in the train set.\n",
    "y_pred_mlr = mlr.predict(X_train)  \n",
    "\n",
    "# Print the predictions.\n",
    "print(\"Prediction for test set: {}\".format(y_pred_mlr)) "
   ]
  },
  {
   "cell_type": "code",
   "execution_count": 129,
   "id": "25acd007",
   "metadata": {},
   "outputs": [
    {
     "name": "stdout",
     "output_type": "stream",
     "text": [
      "Prediction for test set: [ 1388.6284638   3422.26082245  1640.12467474  1732.34964603\n",
      "   870.43930085  1095.23465751  3362.09863273  1177.03411095\n",
      "  3239.19538321  2229.98392624  -252.33605441   394.8920647\n",
      "   212.00052774   947.92109702  1277.8389596   1781.15512555\n",
      "  -158.27654449  1629.8452131   3174.2846839   2036.94274951\n",
      "  1596.69761177  2120.12048194  1460.14223124  -728.32659158\n",
      "  4381.60090816  2950.09652058  3419.95648357  1326.01587901\n",
      "  -438.1493885   1318.64551083  1408.26376595  4581.54996907\n",
      "  1279.05469312  3821.06058393  1270.47237702  1869.67745906\n",
      "    62.39263832   376.31886868  2195.61545894   609.25567917\n",
      "  1483.60132994   818.723381    1075.74919715  1629.8452131\n",
      "  -866.58290325  1329.69849688  1093.70140427  1403.50146079\n",
      "  -954.50292093  1927.69137604  1369.60170184  -850.31026051\n",
      "  2962.06799531  1649.94165239  -267.8338259   1569.07961565\n",
      "  1505.86092943  1355.16822027  1393.99173794  3957.47613262\n",
      "  3781.62608732  1777.46872209  1692.15054309  1121.0132375\n",
      "  1318.19194489  1229.65203022  1982.30124694  1082.64328577\n",
      "   762.09884486  1551.41464341  1851.12562981    57.63033317\n",
      "  3957.47613262  3417.96209319  1947.63797354  1524.41654429\n",
      "  -178.52795804  3511.71409335  1869.52627041  1095.23465751\n",
      "  2164.31593685    68.83072226  3250.0820382    870.43930085\n",
      "   818.723381     198.65699837   940.08824484   876.57609938\n",
      "  1229.65203022  3239.19538321  1369.60170184  1312.52250786\n",
      "  3306.0966873   4350.91884432  2177.63540574  1145.26613547\n",
      "  -512.57468817  2132.21395239  1299.92735052  3419.95648357\n",
      "  1784.52804987  1243.16054379  3306.0966873  -1168.26043396\n",
      "  4157.87766758  1236.55747565  1025.56922425  1649.94165239\n",
      "  -797.07109739  3250.0820382  -1329.22991106  1505.85470508\n",
      "  1947.63797354  2961.45566952  1864.01559323  -887.3016783\n",
      "  2064.08177237  1277.8389596   4754.470901    1259.72933947\n",
      "  1600.98876983  1277.8389596   2144.96786958  1482.21657165\n",
      "  1355.16822027  -590.37778965  1629.70538126  2702.74406464\n",
      "  1328.47384529  1692.15054309  2702.74406464  1560.01967313\n",
      "  1279.05469312  -438.1493885    978.60559961  1726.98014754\n",
      "  -474.83220465  1784.52804987  -785.71573406  1250.22231032\n",
      "   408.09954783  -559.22457871  1647.34250743  1279.05469312\n",
      "  1661.30080133   -24.77008926  1320.80867102   -36.1254526\n",
      "   132.51298437 -1240.2302061   2568.01674343  -252.33605441\n",
      "   497.85763478  2144.96786958  1082.64328577  -876.8585793\n",
      "  1335.53047937  1839.45274677 -1103.96584605  2686.77110548\n",
      "  -252.33605441  2144.96786958  3800.19684459  1270.47237702\n",
      "  1135.29283672  1984.59422901  2036.94274951  1932.14777326\n",
      "  3134.390397    1133.59325243  -372.63393461   643.02183064\n",
      "  2961.45566952  -267.8338259    394.8920647  -1147.54409766\n",
      "  4191.94375759  1175.02836377  3106.15250388  1110.5788016\n",
      "  2962.06799531  2746.17112761  1408.26376595  1075.74919715\n",
      "   132.51298437  1803.68572561  1072.53150204   111.49427079\n",
      "  2962.06799531  1976.1655403   4191.94375759  1505.85470508\n",
      "  1384.78330048  2289.6747139   1959.45068842  1416.70625021\n",
      "  3250.0820382   3557.1355467    692.28356981  1976.1655403\n",
      "  2568.01674343  2790.20673077  3957.47613262  2893.31970389\n",
      "    -8.19750798  1905.88399564  4438.37772484   116.70391753\n",
      "  1584.7399326   1395.07277208  2819.82290287  1631.51829817\n",
      "    -8.19750798   606.20296827   202.00586222  1095.23465751\n",
      "  1326.01587901 -1002.08374886   870.43930085  4902.09062438\n",
      "  4206.82297894  2195.61545894  -956.04618412  1312.52250786\n",
      "   692.28356981   360.82597469  1369.60170184  -211.05700921\n",
      "  1784.52804987  1982.30124694  3362.09863273  3422.26082245\n",
      "    31.54802903  -933.95156884   978.60559961  1532.56422247\n",
      "    57.63033317  3119.35106895  1776.69763644  1778.54083817\n",
      "  1803.68572561  3419.95648357  3417.96209319  1043.20500356\n",
      "  2734.81576427  1686.61580543  3134.390397    4218.17834228\n",
      "  2132.21395239  1661.30080133  -280.72135057   -24.77008926\n",
      "  1772.70128447  1637.06683138  3758.61298335  3781.62608732\n",
      "  1187.15102715  1442.94596735  1829.18329507  1600.98876983\n",
      "  1320.80867102  1677.26862803  1372.05588251  3241.19355919\n",
      "  -512.57468817  1312.52250786  -559.22457871  1684.47266515\n",
      "  1503.8603147   1345.82129783  3957.47613262   104.11767825\n",
      "  2568.01674343  1738.79773992  3758.61298335   890.84568864\n",
      "  1692.15054309  1584.7399326    -17.09490504  1135.29283672\n",
      "  1272.62552725  3401.07712465  1312.2112125   1443.86445604\n",
      "  2276.47505693  2067.64104766  1829.18329507  1345.97627208\n",
      "   394.8920647   1584.7399326    609.25567917  1629.8452131\n",
      "  1532.56422247  1337.37124235   360.82597469  1505.85470508\n",
      "  1375.89103587  2347.22774869  3241.19355919  1250.22231032\n",
      "  1839.45274677  1949.79003188  1504.94000199  3498.36299278\n",
      "  3957.47613262  3758.61298335  3889.3439526   3781.62608732\n",
      "  1317.8895676   1147.71653054   998.09484557  1043.20500356\n",
      "   643.02183064  1483.60132994  1451.23970173  1586.09684482\n",
      "  1082.64328577   873.96938321   497.85763478  1649.94165239\n",
      "  4754.470901    -590.37778965  1184.23057687  4206.82297894\n",
      "  3305.32181605  1560.01967313  2344.60723695   692.28356981\n",
      "  1677.26862803  1121.0132375   -923.35971994  3362.09863273\n",
      "  1503.8603147   1122.55027634  3866.48203728  1996.43588186\n",
      "  1695.98678835  1778.54083817  1182.99970093  1371.14361817\n",
      "  1061.1761387   1976.1655403    202.00586222  1482.21657165\n",
      "   394.8920647   1339.82920863  1285.98041342  -728.32659158\n",
      "  1277.8389596   3730.36886587  1133.59325243  2893.31970389\n",
      " -1031.99607391  2542.98518861  5163.26398114  1959.45068842\n",
      "  2057.05676997  2053.82502434  1483.60132994  3241.19355919\n",
      "  2746.17112761  1421.91968256  -512.57468817  1384.78330048\n",
      "   988.74144382  1947.63797354   365.29103501   978.60559961\n",
      "  1173.48240687  1318.64551083  1538.39999056  1721.60660849\n",
      "  4206.82297894  3362.09863273  1468.8795216   4165.69646925\n",
      "  1059.48656437  -460.86011518   116.70391753  -786.0156726\n",
      "  1432.50909271  -866.58290325  1688.61642016  3957.47613262\n",
      "  -252.33605441   609.25567917  3781.62608732  2152.65197187\n",
      " -1338.59088402   782.82653797  1632.61068912   202.00586222\n",
      "   226.41373444   978.60559961  2542.98518861  1388.6284638\n",
      "  1432.50909271  1403.50146079  3838.40290401  1536.86295173\n",
      "  1355.16822027   762.09884486  2277.84063225 -1240.2302061\n",
      "  1726.98014754   239.16117232  1095.23465751  1692.15054309\n",
      "  1959.45068842  1182.99970093  1421.91968256  2036.94274951\n",
      "   360.82597469  1580.43497899  3250.0820382   2746.17112761\n",
      "  -866.58290325  1005.46521375  1684.47266515   782.82653797\n",
      "  1763.19046972  1781.15512555  1082.03095998  1133.59325243\n",
      "  1730.96758144  2716.39619565  3422.26082245  1560.01967313\n",
      "   940.08824484  1927.69137604  1726.98014754  3800.19684459\n",
      "  1436.80782197  1517.3485534   1451.23970173   739.23583764\n",
      "  1148.62744802  4014.26674487  1082.03095998  1171.3381747\n",
      "  1228.11120578  1277.8389596   1191.90332235  1207.54849688\n",
      "  4165.69646925    87.09153102  2961.45566952  1432.50909271\n",
      "  1369.60170184  3758.61298335  3134.390397    1469.48536808\n",
      "  3946.12076928  1649.94165239  1566.15672663  1521.20885913\n",
      "  1270.47237702   -55.92330021  -110.39577801  1471.49759458\n",
      "  1471.17628927  2036.94274951  1652.85587832  1121.0132375\n",
      "  1503.8603147   3532.42908279  1640.12467474  3362.09863273\n",
      "  2095.55384987  2131.15697872  1805.38665675  1082.64328577\n",
      "    68.83072226  3511.71409335  1629.8452131     64.38080435\n",
      "  1219.66737466  1551.41464341   202.00586222   782.82653797\n",
      "  3127.32997732  1740.0223915   3385.27806776  2568.01674343\n",
      "  1846.05716176  1218.29153443  1380.04236209  3396.16472275\n",
      "  2086.05439193  1024.02949171  1187.15102715  4206.82297894\n",
      "  1619.25849666  -991.49189997   394.8920647   1539.0023064\n",
      "  1947.63797354  1996.43588186  1258.50468789  1096.30812045\n",
      "   818.723381    1187.15102715  -724.65019807  -920.43683092\n",
      "  1075.74919715   -40.72655915  -280.72135057   376.31886868\n",
      "  2028.02263883 -1329.22991106  1088.17423783  1478.84903475\n",
      "  1508.63262981  1686.61580543  1478.84903475  2144.96786958\n",
      "  1371.14361817  1976.1655403   -790.16565196  1469.48536808\n",
      "  1503.8603147   1341.06521702  1647.34250743  3239.19538321\n",
      "  1386.48667037  1538.39999056  1553.12314576  1505.86092943\n",
      "  1059.48656437  1229.65203022  3250.0820382    132.51298437\n",
      "  3831.95859572  3587.6739931   1149.10481948  1043.20500356\n",
      "  3587.6739931   1268.79037389  1270.16999972  1145.26613547\n",
      "  1968.50819219  1535.01352564  1345.82129783  1784.52804987\n",
      "  1293.33429234  -937.78537535  1374.81378733  1391.39772543\n",
      " -1329.22991106  4754.470901    3241.19355919   870.43930085\n",
      "   609.25567917  -266.91289846   967.55883792  1062.39321908\n",
      "  3800.19684459  4754.470901    -372.63393461  3391.87978905\n",
      "  1647.34250743  1896.22956345  1416.70625021  1698.90723862\n",
      "  1061.1761387   -898.65704164   296.09296325  1228.11120578\n",
      "  1631.51829817  -590.37778965  1532.56422247  1328.33401345\n",
      "  1358.39239469  1349.34515584  1869.67745906  1688.61642016\n",
      "  2131.15697872  1320.80867102   355.91248089  1187.15102715\n",
      "    -8.19750798  1584.7399326   1135.29283672  -980.13653663\n",
      "  1250.22231032  2132.21395239  3906.53508403  3119.35106895\n",
      "  1688.61642016  -987.81550646  3241.19355919   940.08824484\n",
      "  3843.31395906  1250.22231032  4165.69646925  1682.48584598\n",
      "  1432.50909271  1355.17335272  1647.34250743  1469.48536808]\n"
     ]
    }
   ],
   "source": [
    "# Call the predictions for X in the test set.\n",
    "y_pred_mlr = mlr.predict(X_test)  \n",
    "\n",
    "# Print the predictions.\n",
    "print(\"Prediction for test set: {}\".format(y_pred_mlr)) "
   ]
  },
  {
   "cell_type": "code",
   "execution_count": 130,
   "id": "fe2e9c31",
   "metadata": {},
   "outputs": [
    {
     "name": "stdout",
     "output_type": "stream",
     "text": [
      "84.97539316498234\n"
     ]
    }
   ],
   "source": [
    "# Print the R-squared value.\n",
    "print(mlr.score(X_test, Y_test)*100)  "
   ]
  },
  {
   "cell_type": "markdown",
   "id": "0388444f",
   "metadata": {},
   "source": [
    "#### Check for multicollinearity\n",
    "It is likely that between 2 of our 3 indipendent variables there's a correlation, that is remuneration and spending score. <br>\n",
    "But also age and spending core may have a correlation.<br>\n",
    "Let's have a look.<br>"
   ]
  },
  {
   "cell_type": "code",
   "execution_count": 131,
   "id": "dae11977",
   "metadata": {},
   "outputs": [
    {
     "name": "stdout",
     "output_type": "stream",
     "text": [
      "   VIF Factor        features\n",
      "0       21.88           const\n",
      "1        1.06             age\n",
      "2        1.00    remuneration\n",
      "3        1.06  spending_score\n"
     ]
    }
   ],
   "source": [
    "# Add a constant.\n",
    "x_temp = sm.add_constant(X_train)  \n",
    "\n",
    "# Create an empty DataFrame. \n",
    "vif = pd.DataFrame() \n",
    "\n",
    "# Calculate the 'vif' for each value.\n",
    "vif[\"VIF Factor\"] = [variance_inflation_factor(x_temp.values, \n",
    "                                               i) for i in range(x_temp.values.shape[1])]  \n",
    "\n",
    "\n",
    "# Create the feature columns.\n",
    "vif['features'] = x_temp.columns  \n",
    "\n",
    "# Print the values to two decimal points.\n",
    "print(vif.round(2))  "
   ]
  },
  {
   "cell_type": "markdown",
   "id": "3b4b98f9",
   "metadata": {},
   "source": [
    "the VIF is low, i.e. the indipendent variables are uncorrelated."
   ]
  },
  {
   "cell_type": "markdown",
   "id": "7c0fe6dc",
   "metadata": {},
   "source": [
    "#### Evaluate the model"
   ]
  },
  {
   "cell_type": "code",
   "execution_count": 132,
   "id": "765b8ea3",
   "metadata": {},
   "outputs": [
    {
     "name": "stdout",
     "output_type": "stream",
     "text": [
      "Mean Absolute Error (Final): 413.545903679271\n",
      "Mean Square Error (Final): 291331.20172146347\n"
     ]
    }
   ],
   "source": [
    "# Call the ‘metrics.mean_absolute_error’ function.  \n",
    "print('Mean Absolute Error (Final):', metrics.mean_absolute_error(Y_test, Y_pred))  \n",
    "\n",
    "# Call the ‘metrics.mean_squared_error’ function.\n",
    "print('Mean Square Error (Final):', metrics.mean_squared_error(Y_test, Y_pred))  "
   ]
  },
  {
   "attachments": {
    "image.png": {
     "image/png": "[encoded data removed]"
    }
   },
   "cell_type": "markdown",
   "id": "a85ef638",
   "metadata": {},
   "source": [
    "High values of MAE mean that the model is bad. But loyalty score and age, remuneration and spending score have a different scale, it can be seen in the mean values. Therefore, R-square high value that not affected by the scale should be considered more important.  \n",
    "![image.png](attachment:image.png)"
   ]
  },
  {
   "cell_type": "markdown",
   "id": "dc5ecede",
   "metadata": {},
   "source": [
    "# MLR after Normalization of loyalty_points"
   ]
  },
  {
   "cell_type": "markdown",
   "id": "bc3e72ba",
   "metadata": {},
   "source": [
    "Let's check what happens if we normalize the loyalty_points to adjust its scale.\n",
    "Add a new column logloyalty to the existing reviews1 dataframe, creating the reviews2"
   ]
  },
  {
   "cell_type": "code",
   "execution_count": 149,
   "id": "3130434f",
   "metadata": {},
   "outputs": [],
   "source": [
    "reviews2 = reviews1.assign(logloyalty=np.log(reviews1['loyalty_points']))"
   ]
  },
  {
   "cell_type": "markdown",
   "id": "ced93bb6",
   "metadata": {},
   "source": [
    "Check that everything went all right"
   ]
  },
  {
   "cell_type": "code",
   "execution_count": 150,
   "id": "31f63a31",
   "metadata": {},
   "outputs": [
    {
     "data": {
      "text/html": [
       "<div>\n",
       "<style scoped>\n",
       "    .dataframe tbody tr th:only-of-type {\n",
       "        vertical-align: middle;\n",
       "    }\n",
       "\n",
       "    .dataframe tbody tr th {\n",
       "        vertical-align: top;\n",
       "    }\n",
       "\n",
       "    .dataframe thead th {\n",
       "        text-align: right;\n",
       "    }\n",
       "</style>\n",
       "<table border=\"1\" class=\"dataframe\">\n",
       "  <thead>\n",
       "    <tr style=\"text-align: right;\">\n",
       "      <th></th>\n",
       "      <th>gender</th>\n",
       "      <th>age</th>\n",
       "      <th>remuneration</th>\n",
       "      <th>spending_score</th>\n",
       "      <th>loyalty_points</th>\n",
       "      <th>education</th>\n",
       "      <th>product</th>\n",
       "      <th>review</th>\n",
       "      <th>summary</th>\n",
       "      <th>logloyalty</th>\n",
       "    </tr>\n",
       "  </thead>\n",
       "  <tbody>\n",
       "    <tr>\n",
       "      <th>0</th>\n",
       "      <td>Male</td>\n",
       "      <td>18</td>\n",
       "      <td>12.30</td>\n",
       "      <td>39</td>\n",
       "      <td>210</td>\n",
       "      <td>graduate</td>\n",
       "      <td>453</td>\n",
       "      <td>When it comes to a DM's screen, the space on t...</td>\n",
       "      <td>The fact that 50% of this space is wasted on a...</td>\n",
       "      <td>5.347108</td>\n",
       "    </tr>\n",
       "    <tr>\n",
       "      <th>1</th>\n",
       "      <td>Male</td>\n",
       "      <td>23</td>\n",
       "      <td>12.30</td>\n",
       "      <td>81</td>\n",
       "      <td>524</td>\n",
       "      <td>graduate</td>\n",
       "      <td>466</td>\n",
       "      <td>An Open Letter to GaleForce9*:\\n\\nYour unpaint...</td>\n",
       "      <td>Another worthless Dungeon Master's screen from...</td>\n",
       "      <td>6.261492</td>\n",
       "    </tr>\n",
       "    <tr>\n",
       "      <th>2</th>\n",
       "      <td>Female</td>\n",
       "      <td>22</td>\n",
       "      <td>13.12</td>\n",
       "      <td>6</td>\n",
       "      <td>40</td>\n",
       "      <td>graduate</td>\n",
       "      <td>254</td>\n",
       "      <td>Nice art, nice printing.  Why two panels are f...</td>\n",
       "      <td>pretty, but also pretty useless</td>\n",
       "      <td>3.688879</td>\n",
       "    </tr>\n",
       "    <tr>\n",
       "      <th>3</th>\n",
       "      <td>Female</td>\n",
       "      <td>25</td>\n",
       "      <td>13.12</td>\n",
       "      <td>77</td>\n",
       "      <td>562</td>\n",
       "      <td>graduate</td>\n",
       "      <td>263</td>\n",
       "      <td>Amazing buy! Bought it as a gift for our new d...</td>\n",
       "      <td>Five Stars</td>\n",
       "      <td>6.331502</td>\n",
       "    </tr>\n",
       "    <tr>\n",
       "      <th>4</th>\n",
       "      <td>Female</td>\n",
       "      <td>33</td>\n",
       "      <td>13.94</td>\n",
       "      <td>40</td>\n",
       "      <td>366</td>\n",
       "      <td>graduate</td>\n",
       "      <td>291</td>\n",
       "      <td>As my review of GF9's previous screens these w...</td>\n",
       "      <td>Money trap</td>\n",
       "      <td>5.902633</td>\n",
       "    </tr>\n",
       "  </tbody>\n",
       "</table>\n",
       "</div>"
      ],
      "text/plain": [
       "   gender  age  remuneration  spending_score  loyalty_points education  \\\n",
       "0    Male   18         12.30              39             210  graduate   \n",
       "1    Male   23         12.30              81             524  graduate   \n",
       "2  Female   22         13.12               6              40  graduate   \n",
       "3  Female   25         13.12              77             562  graduate   \n",
       "4  Female   33         13.94              40             366  graduate   \n",
       "\n",
       "   product                                             review  \\\n",
       "0      453  When it comes to a DM's screen, the space on t...   \n",
       "1      466  An Open Letter to GaleForce9*:\\n\\nYour unpaint...   \n",
       "2      254  Nice art, nice printing.  Why two panels are f...   \n",
       "3      263  Amazing buy! Bought it as a gift for our new d...   \n",
       "4      291  As my review of GF9's previous screens these w...   \n",
       "\n",
       "                                             summary  logloyalty  \n",
       "0  The fact that 50% of this space is wasted on a...    5.347108  \n",
       "1  Another worthless Dungeon Master's screen from...    6.261492  \n",
       "2                    pretty, but also pretty useless    3.688879  \n",
       "3                                         Five Stars    6.331502  \n",
       "4                                         Money trap    5.902633  "
      ]
     },
     "execution_count": 150,
     "metadata": {},
     "output_type": "execute_result"
    }
   ],
   "source": [
    "reviews2.head()"
   ]
  },
  {
   "cell_type": "markdown",
   "id": "cebf4155",
   "metadata": {},
   "source": [
    "## Repeat of MLR with revised indipendent variable"
   ]
  },
  {
   "cell_type": "code",
   "execution_count": 151,
   "id": "c66f7d01",
   "metadata": {},
   "outputs": [],
   "source": [
    "# Define the dependent variable.\n",
    "y = reviews2['logloyalty']  \n",
    "\n",
    "# Define the independent variables.\n",
    "X = reviews2[['age', 'remuneration', 'spending_score']] "
   ]
  },
  {
   "cell_type": "code",
   "execution_count": 152,
   "id": "a98b9d44",
   "metadata": {},
   "outputs": [
    {
     "data": {
      "text/html": [
       "<style>#sk-container-id-6 {color: black;background-color: white;}#sk-container-id-6 pre{padding: 0;}#sk-container-id-6 div.sk-toggleable {background-color: white;}#sk-container-id-6 label.sk-toggleable__label {cursor: pointer;display: block;width: 100%;margin-bottom: 0;padding: 0.3em;box-sizing: border-box;text-align: center;}#sk-container-id-6 label.sk-toggleable__label-arrow:before {content: \"▸\";float: left;margin-right: 0.25em;color: #696969;}#sk-container-id-6 label.sk-toggleable__label-arrow:hover:before {color: black;}#sk-container-id-6 div.sk-estimator:hover label.sk-toggleable__label-arrow:before {color: black;}#sk-container-id-6 div.sk-toggleable__content {max-height: 0;max-width: 0;overflow: hidden;text-align: left;background-color: #f0f8ff;}#sk-container-id-6 div.sk-toggleable__content pre {margin: 0.2em;color: black;border-radius: 0.25em;background-color: #f0f8ff;}#sk-container-id-6 input.sk-toggleable__control:checked~div.sk-toggleable__content {max-height: 200px;max-width: 100%;overflow: auto;}#sk-container-id-6 input.sk-toggleable__control:checked~label.sk-toggleable__label-arrow:before {content: \"▾\";}#sk-container-id-6 div.sk-estimator input.sk-toggleable__control:checked~label.sk-toggleable__label {background-color: #d4ebff;}#sk-container-id-6 div.sk-label input.sk-toggleable__control:checked~label.sk-toggleable__label {background-color: #d4ebff;}#sk-container-id-6 input.sk-hidden--visually {border: 0;clip: rect(1px 1px 1px 1px);clip: rect(1px, 1px, 1px, 1px);height: 1px;margin: -1px;overflow: hidden;padding: 0;position: absolute;width: 1px;}#sk-container-id-6 div.sk-estimator {font-family: monospace;background-color: #f0f8ff;border: 1px dotted black;border-radius: 0.25em;box-sizing: border-box;margin-bottom: 0.5em;}#sk-container-id-6 div.sk-estimator:hover {background-color: #d4ebff;}#sk-container-id-6 div.sk-parallel-item::after {content: \"\";width: 100%;border-bottom: 1px solid gray;flex-grow: 1;}#sk-container-id-6 div.sk-label:hover label.sk-toggleable__label {background-color: #d4ebff;}#sk-container-id-6 div.sk-serial::before {content: \"\";position: absolute;border-left: 1px solid gray;box-sizing: border-box;top: 0;bottom: 0;left: 50%;z-index: 0;}#sk-container-id-6 div.sk-serial {display: flex;flex-direction: column;align-items: center;background-color: white;padding-right: 0.2em;padding-left: 0.2em;position: relative;}#sk-container-id-6 div.sk-item {position: relative;z-index: 1;}#sk-container-id-6 div.sk-parallel {display: flex;align-items: stretch;justify-content: center;background-color: white;position: relative;}#sk-container-id-6 div.sk-item::before, #sk-container-id-6 div.sk-parallel-item::before {content: \"\";position: absolute;border-left: 1px solid gray;box-sizing: border-box;top: 0;bottom: 0;left: 50%;z-index: -1;}#sk-container-id-6 div.sk-parallel-item {display: flex;flex-direction: column;z-index: 1;position: relative;background-color: white;}#sk-container-id-6 div.sk-parallel-item:first-child::after {align-self: flex-end;width: 50%;}#sk-container-id-6 div.sk-parallel-item:last-child::after {align-self: flex-start;width: 50%;}#sk-container-id-6 div.sk-parallel-item:only-child::after {width: 0;}#sk-container-id-6 div.sk-dashed-wrapped {border: 1px dashed gray;margin: 0 0.4em 0.5em 0.4em;box-sizing: border-box;padding-bottom: 0.4em;background-color: white;}#sk-container-id-6 div.sk-label label {font-family: monospace;font-weight: bold;display: inline-block;line-height: 1.2em;}#sk-container-id-6 div.sk-label-container {text-align: center;}#sk-container-id-6 div.sk-container {/* jupyter's `normalize.less` sets `[hidden] { display: none; }` but bootstrap.min.css set `[hidden] { display: none !important; }` so we also need the `!important` here to be able to override the default hidden behavior on the sphinx rendered scikit-learn.org. See: https://github.com/scikit-learn/scikit-learn/issues/21755 */display: inline-block !important;position: relative;}#sk-container-id-6 div.sk-text-repr-fallback {display: none;}</style><div id=\"sk-container-id-6\" class=\"sk-top-container\"><div class=\"sk-text-repr-fallback\"><pre>LinearRegression()</pre><b>In a Jupyter environment, please rerun this cell to show the HTML representation or trust the notebook. <br />On GitHub, the HTML representation is unable to render, please try loading this page with nbviewer.org.</b></div><div class=\"sk-container\" hidden><div class=\"sk-item\"><div class=\"sk-estimator sk-toggleable\"><input class=\"sk-toggleable__control sk-hidden--visually\" id=\"sk-estimator-id-6\" type=\"checkbox\" checked><label for=\"sk-estimator-id-6\" class=\"sk-toggleable__label sk-toggleable__label-arrow\">LinearRegression</label><div class=\"sk-toggleable__content\"><pre>LinearRegression()</pre></div></div></div></div></div>"
      ],
      "text/plain": [
       "LinearRegression()"
      ]
     },
     "execution_count": 152,
     "metadata": {},
     "output_type": "execute_result"
    }
   ],
   "source": [
    "# Fit the regression model.\n",
    "mlr = linear_model.LinearRegression()\n",
    "mlr.fit(X, y) "
   ]
  },
  {
   "cell_type": "code",
   "execution_count": 153,
   "id": "151ff492",
   "metadata": {},
   "outputs": [
    {
     "data": {
      "text/plain": [
       "array([5.6036833 , 6.88303351, 4.69883303, ..., 9.16738377, 7.10848149,\n",
       "       6.71983337])"
      ]
     },
     "execution_count": 153,
     "metadata": {},
     "output_type": "execute_result"
    }
   ],
   "source": [
    "# Call the predictions for X (array).\n",
    "mlr.predict(X) "
   ]
  },
  {
   "cell_type": "code",
   "execution_count": 154,
   "id": "313ac6d0",
   "metadata": {},
   "outputs": [
    {
     "name": "stdout",
     "output_type": "stream",
     "text": [
      "R-squared:  0.8164629142894955\n",
      "Intercept:  3.9913086435691203\n",
      "Coefficients:\n"
     ]
    },
    {
     "data": {
      "text/plain": [
       "[('age', 0.01023852261968886),\n",
       " ('remuneration', 0.0233861129163865),\n",
       " ('spending_score', 0.029241847628789792)]"
      ]
     },
     "execution_count": 154,
     "metadata": {},
     "output_type": "execute_result"
    }
   ],
   "source": [
    "# Print the R-squared value.\n",
    "print(\"R-squared: \", mlr.score(X,y))  \n",
    "\n",
    "# Print the intercept.\n",
    "print(\"Intercept: \", mlr.intercept_) \n",
    "\n",
    "# Print the coefficients.\n",
    "print(\"Coefficients:\")  \n",
    "\n",
    "# Map a similar index of multiple containers (to be used as a single entity).\n",
    "list(zip(X, mlr.coef_)) "
   ]
  },
  {
   "cell_type": "markdown",
   "id": "610d3864",
   "metadata": {},
   "source": [
    "#### Make predictions"
   ]
  },
  {
   "cell_type": "code",
   "execution_count": 155,
   "id": "be896ae3",
   "metadata": {},
   "outputs": [
    {
     "name": "stdout",
     "output_type": "stream",
     "text": [
      "Predicted Value of loyalty_points: \n",
      " [7.12133636]\n"
     ]
    },
    {
     "name": "stderr",
     "output_type": "stream",
     "text": [
      "C:\\Users\\keeni\\AppData\\Roaming\\Python\\Python39\\site-packages\\sklearn\\base.py:450: UserWarning: X does not have valid feature names, but LinearRegression was fitted with feature names\n",
      "  warnings.warn(\n"
     ]
    }
   ],
   "source": [
    "# Create a variable 'New_age' and define it as 43.\n",
    "New_age = 43\n",
    "\n",
    "# Create 'New_remuneration' and define it as 65.\n",
    "New_remuneration = 65  \n",
    "\n",
    "# Create 'New_spending_score' and define it as 40.\n",
    "New_spending_score = 40\n",
    "\n",
    "# Print the predicted value. \n",
    "print (\"Predicted Value of loyalty_points: \\n\", mlr.predict([[New_age ,New_remuneration ,New_spending_score]]))  "
   ]
  },
  {
   "cell_type": "markdown",
   "id": "25ff85dd",
   "metadata": {},
   "source": [
    "#### Train and test subsets with (MLR) multiple linear regression"
   ]
  },
  {
   "cell_type": "code",
   "execution_count": 156,
   "id": "3dd6bd18",
   "metadata": {},
   "outputs": [],
   "source": [
    "# Split the data in 'train' (80%) and 'test' (20%) sets.\n",
    "X_train, X_test, Y_train, Y_test = sklearn.model_selection.train_test_split(X, y,\n",
    "                                                                            test_size = 0.20,\n",
    "                                                                            random_state = 5)"
   ]
  },
  {
   "cell_type": "code",
   "execution_count": 157,
   "id": "d9a70947",
   "metadata": {},
   "outputs": [
    {
     "name": "stdout",
     "output_type": "stream",
     "text": [
      "                            OLS Regression Results                            \n",
      "==============================================================================\n",
      "Dep. Variable:             logloyalty   R-squared:                       0.815\n",
      "Model:                            OLS   Adj. R-squared:                  0.814\n",
      "Method:                 Least Squares   F-statistic:                     2338.\n",
      "Date:                Fri, 23 Dec 2022   Prob (F-statistic):               0.00\n",
      "Time:                        01:36:03   Log-Likelihood:                -897.60\n",
      "No. Observations:                1600   AIC:                             1803.\n",
      "Df Residuals:                    1596   BIC:                             1825.\n",
      "Df Model:                           3                                         \n",
      "Covariance Type:            nonrobust                                         \n",
      "==================================================================================\n",
      "                     coef    std err          t      P>|t|      [0.025      0.975]\n",
      "----------------------------------------------------------------------------------\n",
      "const              4.0124      0.049     81.923      0.000       3.916       4.108\n",
      "age                0.0102      0.001     12.812      0.000       0.009       0.012\n",
      "remuneration       0.0235      0.000     50.572      0.000       0.023       0.024\n",
      "spending_score     0.0289      0.000     68.399      0.000       0.028       0.030\n",
      "==============================================================================\n",
      "Omnibus:                      554.397   Durbin-Watson:                   2.016\n",
      "Prob(Omnibus):                  0.000   Jarque-Bera (JB):             2219.264\n",
      "Skew:                          -1.643   Prob(JB):                         0.00\n",
      "Kurtosis:                       7.743   Cond. No.                         381.\n",
      "==============================================================================\n",
      "\n",
      "Notes:\n",
      "[1] Standard Errors assume that the covariance matrix of the errors is correctly specified.\n"
     ]
    }
   ],
   "source": [
    "# Training the model using the 'statsmodel' OLS library.\n",
    "# Fit the model with the added constant.\n",
    "model = sm.OLS(Y_train, sm.add_constant(X_train)).fit()\n",
    "\n",
    "# Set the predicted response vector.\n",
    "Y_pred = model.predict(sm.add_constant(X_test)) \n",
    "\n",
    "# Call a summary of the model.\n",
    "print_model = model.summary()\n",
    "\n",
    "# Print the summary.\n",
    "print(print_model)  "
   ]
  },
  {
   "cell_type": "markdown",
   "id": "5e8021e3",
   "metadata": {},
   "source": [
    "#### Run a regression test"
   ]
  },
  {
   "cell_type": "code",
   "execution_count": 158,
   "id": "b5594d58",
   "metadata": {},
   "outputs": [
    {
     "data": {
      "text/html": [
       "<style>#sk-container-id-7 {color: black;background-color: white;}#sk-container-id-7 pre{padding: 0;}#sk-container-id-7 div.sk-toggleable {background-color: white;}#sk-container-id-7 label.sk-toggleable__label {cursor: pointer;display: block;width: 100%;margin-bottom: 0;padding: 0.3em;box-sizing: border-box;text-align: center;}#sk-container-id-7 label.sk-toggleable__label-arrow:before {content: \"▸\";float: left;margin-right: 0.25em;color: #696969;}#sk-container-id-7 label.sk-toggleable__label-arrow:hover:before {color: black;}#sk-container-id-7 div.sk-estimator:hover label.sk-toggleable__label-arrow:before {color: black;}#sk-container-id-7 div.sk-toggleable__content {max-height: 0;max-width: 0;overflow: hidden;text-align: left;background-color: #f0f8ff;}#sk-container-id-7 div.sk-toggleable__content pre {margin: 0.2em;color: black;border-radius: 0.25em;background-color: #f0f8ff;}#sk-container-id-7 input.sk-toggleable__control:checked~div.sk-toggleable__content {max-height: 200px;max-width: 100%;overflow: auto;}#sk-container-id-7 input.sk-toggleable__control:checked~label.sk-toggleable__label-arrow:before {content: \"▾\";}#sk-container-id-7 div.sk-estimator input.sk-toggleable__control:checked~label.sk-toggleable__label {background-color: #d4ebff;}#sk-container-id-7 div.sk-label input.sk-toggleable__control:checked~label.sk-toggleable__label {background-color: #d4ebff;}#sk-container-id-7 input.sk-hidden--visually {border: 0;clip: rect(1px 1px 1px 1px);clip: rect(1px, 1px, 1px, 1px);height: 1px;margin: -1px;overflow: hidden;padding: 0;position: absolute;width: 1px;}#sk-container-id-7 div.sk-estimator {font-family: monospace;background-color: #f0f8ff;border: 1px dotted black;border-radius: 0.25em;box-sizing: border-box;margin-bottom: 0.5em;}#sk-container-id-7 div.sk-estimator:hover {background-color: #d4ebff;}#sk-container-id-7 div.sk-parallel-item::after {content: \"\";width: 100%;border-bottom: 1px solid gray;flex-grow: 1;}#sk-container-id-7 div.sk-label:hover label.sk-toggleable__label {background-color: #d4ebff;}#sk-container-id-7 div.sk-serial::before {content: \"\";position: absolute;border-left: 1px solid gray;box-sizing: border-box;top: 0;bottom: 0;left: 50%;z-index: 0;}#sk-container-id-7 div.sk-serial {display: flex;flex-direction: column;align-items: center;background-color: white;padding-right: 0.2em;padding-left: 0.2em;position: relative;}#sk-container-id-7 div.sk-item {position: relative;z-index: 1;}#sk-container-id-7 div.sk-parallel {display: flex;align-items: stretch;justify-content: center;background-color: white;position: relative;}#sk-container-id-7 div.sk-item::before, #sk-container-id-7 div.sk-parallel-item::before {content: \"\";position: absolute;border-left: 1px solid gray;box-sizing: border-box;top: 0;bottom: 0;left: 50%;z-index: -1;}#sk-container-id-7 div.sk-parallel-item {display: flex;flex-direction: column;z-index: 1;position: relative;background-color: white;}#sk-container-id-7 div.sk-parallel-item:first-child::after {align-self: flex-end;width: 50%;}#sk-container-id-7 div.sk-parallel-item:last-child::after {align-self: flex-start;width: 50%;}#sk-container-id-7 div.sk-parallel-item:only-child::after {width: 0;}#sk-container-id-7 div.sk-dashed-wrapped {border: 1px dashed gray;margin: 0 0.4em 0.5em 0.4em;box-sizing: border-box;padding-bottom: 0.4em;background-color: white;}#sk-container-id-7 div.sk-label label {font-family: monospace;font-weight: bold;display: inline-block;line-height: 1.2em;}#sk-container-id-7 div.sk-label-container {text-align: center;}#sk-container-id-7 div.sk-container {/* jupyter's `normalize.less` sets `[hidden] { display: none; }` but bootstrap.min.css set `[hidden] { display: none !important; }` so we also need the `!important` here to be able to override the default hidden behavior on the sphinx rendered scikit-learn.org. See: https://github.com/scikit-learn/scikit-learn/issues/21755 */display: inline-block !important;position: relative;}#sk-container-id-7 div.sk-text-repr-fallback {display: none;}</style><div id=\"sk-container-id-7\" class=\"sk-top-container\"><div class=\"sk-text-repr-fallback\"><pre>LinearRegression()</pre><b>In a Jupyter environment, please rerun this cell to show the HTML representation or trust the notebook. <br />On GitHub, the HTML representation is unable to render, please try loading this page with nbviewer.org.</b></div><div class=\"sk-container\" hidden><div class=\"sk-item\"><div class=\"sk-estimator sk-toggleable\"><input class=\"sk-toggleable__control sk-hidden--visually\" id=\"sk-estimator-id-7\" type=\"checkbox\" checked><label for=\"sk-estimator-id-7\" class=\"sk-toggleable__label sk-toggleable__label-arrow\">LinearRegression</label><div class=\"sk-toggleable__content\"><pre>LinearRegression()</pre></div></div></div></div></div>"
      ],
      "text/plain": [
       "LinearRegression()"
      ]
     },
     "execution_count": 158,
     "metadata": {},
     "output_type": "execute_result"
    }
   ],
   "source": [
    "# Specify the model.\n",
    "mlr = LinearRegression()  \n",
    "\n",
    "# Fit the model. We can only fit the model with the training data set.\n",
    "mlr.fit(X_train, Y_train)  "
   ]
  },
  {
   "cell_type": "code",
   "execution_count": 159,
   "id": "0e2d666f",
   "metadata": {},
   "outputs": [
    {
     "name": "stdout",
     "output_type": "stream",
     "text": [
      "Prediction for test set: [6.72480464 6.29110986 7.44847388 ... 7.02006824 4.90982777 7.03988399]\n"
     ]
    }
   ],
   "source": [
    "# Call the predictions for X in the train set.\n",
    "y_pred_mlr = mlr.predict(X_train)  \n",
    "\n",
    "# Print the predictions.\n",
    "print(\"Prediction for test set: {}\".format(y_pred_mlr)) "
   ]
  },
  {
   "cell_type": "code",
   "execution_count": 160,
   "id": "58d05688",
   "metadata": {},
   "outputs": [
    {
     "name": "stdout",
     "output_type": "stream",
     "text": [
      "Prediction for test set: [6.91526005 8.518279   7.07027355 7.14626234 6.55130074 6.64472741\n",
      " 8.34289581 6.82596617 8.34260665 7.65732719 5.56746443 5.94357635\n",
      " 5.98742424 6.51089872 6.802745   7.2531149  5.65226022 7.05628957\n",
      " 8.2483809  7.4843897  7.02102408 7.62017827 7.06075941 5.21902744\n",
      " 9.16232912 8.05337504 8.48836304 6.82919486 5.48614664 6.76184885\n",
      " 6.84956067 9.32660003 6.65794445 8.74530915 6.77545561 7.22101385\n",
      " 5.88549163 5.90359589 7.6684478  6.12049757 6.89689428 6.43945237\n",
      " 6.63124946 7.05628957 5.087211   6.81366063 6.67094046 6.82884946\n",
      " 5.05433528 7.30905916 6.93773808 5.13733213 8.10043972 7.00824494\n",
      " 5.61352894 7.02254219 6.96139714 6.72480464 6.81263666 8.84656317\n",
      " 8.7189997  7.2285925  7.22059618 6.67100472 6.82430733 6.71448311\n",
      " 7.20731902 6.52071422 6.29110986 6.78098571 7.36301529 5.86478042\n",
      " 8.84656317 8.49692134 7.34019187 6.85945233 5.68106772 8.52494166\n",
      " 7.24183334 6.64472741 7.60884109 5.85571609 8.25501144 6.55130074\n",
      " 6.43945237 6.00756515 6.36754012 6.48650514 6.71448311 8.34260665\n",
      " 6.93773808 6.9285131  8.38821747 9.19797213 7.2900026  6.80360833\n",
      " 5.41231052 7.24931143 6.76444329 8.48836304 7.3341233  6.77539136\n",
      " 8.38821747 4.85249391 9.02503464 6.72411774 6.6099037  7.00824494\n",
      " 5.16115541 8.25501144 4.7186331  6.93964173 7.34019187 8.10360446\n",
      " 7.40533286 5.07660833 7.18827467 6.802745   9.38390145 6.76211808\n",
      " 6.9622685  6.802745   7.47267499 6.78557217 6.72480464 5.29406841\n",
      " 7.19727893 7.90048208 6.81999011 7.22059618 7.90048208 6.90381427\n",
      " 6.65794445 5.48614664 6.4569545  7.22713032 5.40553926 7.3341233\n",
      " 5.17132821 6.86262094 6.10448142 5.33789219 7.10008122 6.65794445\n",
      " 7.05847436 5.80687627 6.87439633 5.79670348 5.91621468 4.78775425\n",
      " 7.79225212 5.56746443 6.05120388 7.47267499 6.52071422 5.11328364\n",
      " 6.80880524 7.23425499 4.90982777 7.69200629 5.56746443 7.47267499\n",
      " 8.77728138 6.77545561 6.78804198 7.11706511 7.4843897  7.46636962\n",
      " 8.26277454 6.67484804 5.4970944  6.17435373 8.10360446 5.61352894\n",
      " 5.94357635 4.88139779 9.05555302 6.71435459 8.18734414 6.63778361\n",
      " 8.10043972 7.94973155 6.84956067 6.63124946 5.91621468 7.03218484\n",
      " 6.70449507 5.92894979 8.10043972 7.19545557 9.05555302 6.93964173\n",
      " 6.8314439  7.61822671 7.3279628  6.87303887 8.25501144 8.56563283\n",
      " 6.33546348 7.19545557 7.79225212 7.95575966 8.84656317 8.00251107\n",
      " 5.83365962 7.12373998 9.21319309 5.8654471  7.07582806 6.90723992\n",
      " 7.98573988 6.88908715 5.83365962 6.27479234 5.78987599 6.64472741\n",
      " 6.82919486 4.94115325 6.55130074 9.51614777 8.99089784 7.6684478\n",
      " 5.0187363  6.9285131  6.33546348 5.91305797 6.93773808 5.6643929\n",
      " 7.3341233  7.20731902 8.34289581 8.518279   5.82178427 5.00219001\n",
      " 6.4569545  7.00468276 5.86478042 8.20977814 7.17246349 7.18472469\n",
      " 7.03218484 8.48836304 8.49692134 6.45434816 7.93955876 7.08539812\n",
      " 8.26277454 9.00107063 7.24931143 7.05847436 5.55291015 5.80687627\n",
      " 7.10946684 7.12615386 8.74029311 8.7189997  6.74059978 6.91697094\n",
      " 7.28208304 6.9622685  6.87439633 7.16853569 6.8884767  8.37410497\n",
      " 5.41231052 6.9285131  5.33789219 7.0964747  6.94820003 6.94295909\n",
      " 8.84656317 5.83984837 7.79225212 7.17829883 8.74029311 6.54173037\n",
      " 7.22059618 7.07582806 5.81428208 6.78804198 6.82619107 8.44996494\n",
      " 6.83168101 6.91222383 7.67245176 7.53231413 7.28208304 6.96219622\n",
      " 5.94357635 7.07582806 6.12049757 7.05628957 7.00468276 6.83936765\n",
      " 5.91305797 6.93964173 6.91048082 7.82363414 8.37410497 6.86262094\n",
      " 7.23425499 7.46758637 6.98444546 8.46496933 8.84656317 8.74029311\n",
      " 8.78552641 8.7189997  6.86594632 6.71429034 6.51048907 6.45434816\n",
      " 6.17435373 6.89689428 6.94296741 6.84839597 6.52071422 6.49822818\n",
      " 6.05120388 7.00824494 9.38390145 5.29406841 6.67379193 8.99089784\n",
      " 8.29203184 6.90381427 7.73348852 6.33546348 7.16853569 6.67100472\n",
      " 5.03634703 8.34289581 6.94820003 6.68484829 8.78600032 7.36693119\n",
      " 7.16594125 7.18472469 6.658366   6.91497922 6.69432227 7.19545557\n",
      " 5.78987599 6.78557217 5.94357635 6.8301629  6.92622002 5.21902744\n",
      " 6.802745   8.6431073  6.67484804 8.00251107 4.97456743 7.52340626\n",
      " 9.75012202 7.3279628  7.57827035 7.41463042 6.89689428 8.37410497\n",
      " 7.94973155 6.8495928  5.41231052 6.8314439  6.57187123 7.34019187\n",
      " 6.07382262 6.4569545  6.56203995 6.76184885 7.03988399 7.13292481\n",
      " 8.99089784 8.34289581 6.96248537 8.9315077  6.64294037 5.46580105\n",
      " 5.8654471  5.19466599 6.90205104 5.087211   7.09859524 8.84656317\n",
      " 5.56746443 6.12049757 8.7189997  7.61855187 4.69990201 6.44018361\n",
      " 7.10386028 5.78987599 5.94171672 6.4569545  7.52340626 6.91526005\n",
      " 6.90205104 6.82884946 8.76986367 7.02604042]\n"
     ]
    }
   ],
   "source": [
    "# Call the predictions for X in the test set.\n",
    "y_pred_mlr = mlr.predict(X_test)  \n",
    "\n",
    "# Print the predictions.\n",
    "print(\"Prediction for test set: {}\".format(y_pred_mlr)) "
   ]
  },
  {
   "cell_type": "code",
   "execution_count": 161,
   "id": "ea21951e",
   "metadata": {},
   "outputs": [
    {
     "name": "stdout",
     "output_type": "stream",
     "text": [
      "82.09825200912873\n"
     ]
    }
   ],
   "source": [
    "# Print the R-squared value.\n",
    "print(mlr.score(X_test, Y_test)*100)  "
   ]
  },
  {
   "cell_type": "markdown",
   "id": "00c49e9b",
   "metadata": {},
   "source": [
    "#### Check for multicollinearity\n",
    "It is likely that between 2 of our 3 indipendent variables there's a correlation, that is remuneration and spending score. <br>\n",
    "But also age and spending core may have a correlation.<br>\n",
    "Let's have a look.<br>"
   ]
  },
  {
   "cell_type": "code",
   "execution_count": 162,
   "id": "8a1e57b3",
   "metadata": {},
   "outputs": [
    {
     "name": "stdout",
     "output_type": "stream",
     "text": [
      "   VIF Factor        features\n",
      "0       21.29           const\n",
      "1        1.05             age\n",
      "2        1.00    remuneration\n",
      "3        1.06  spending_score\n"
     ]
    }
   ],
   "source": [
    "# Add a constant.\n",
    "x_temp = sm.add_constant(X_train)  \n",
    "\n",
    "# Create an empty DataFrame. \n",
    "vif = pd.DataFrame() \n",
    "\n",
    "# Calculate the 'vif' for each value.\n",
    "vif[\"VIF Factor\"] = [variance_inflation_factor(x_temp.values, \n",
    "                                               i) for i in range(x_temp.values.shape[1])]  \n",
    "\n",
    "\n",
    "# Create the feature columns.\n",
    "vif['features'] = x_temp.columns  \n",
    "\n",
    "# Print the values to two decimal points.\n",
    "print(vif.round(2))  "
   ]
  },
  {
   "cell_type": "markdown",
   "id": "c645d16f",
   "metadata": {},
   "source": [
    "the VIF is low, i.e. the indipendent variables are uncorrelated."
   ]
  },
  {
   "cell_type": "markdown",
   "id": "c7d92352",
   "metadata": {},
   "source": [
    "#### Evaluate the model"
   ]
  },
  {
   "cell_type": "code",
   "execution_count": 163,
   "id": "bb391368",
   "metadata": {},
   "outputs": [
    {
     "name": "stdout",
     "output_type": "stream",
     "text": [
      "Mean Absolute Error (Final): 0.3574212981997779\n",
      "Mean Square Error (Final): 0.23683546257320023\n"
     ]
    }
   ],
   "source": [
    "# Call the ‘metrics.mean_absolute_error’ function.  \n",
    "print('Mean Absolute Error (Final):', metrics.mean_absolute_error(Y_test, Y_pred))  \n",
    "\n",
    "# Call the ‘metrics.mean_squared_error’ function.\n",
    "print('Mean Square Error (Final):', metrics.mean_squared_error(Y_test, Y_pred))  "
   ]
  },
  {
   "cell_type": "markdown",
   "id": "d6757214",
   "metadata": {},
   "source": [
    "We can see that the MAE is now very low, proof of the fact that our multiple linear regression model, that has also a high value of R-squared (81.5%) and Adjusted R-squared (81.4%), can predict the log of the loyalty points, therefore the loyalty points thenselves."
   ]
  },
  {
   "cell_type": "code",
   "execution_count": null,
   "id": "87a29ac8",
   "metadata": {},
   "outputs": [],
   "source": []
  }
 ],
 "metadata": {
  "kernelspec": {
   "display_name": "Python [conda env:root] *",
   "language": "python",
   "name": "conda-root-py"
  },
  "language_info": {
   "codemirror_mode": {
    "name": "ipython",
    "version": 3
   },
   "file_extension": ".py",
   "mimetype": "text/x-python",
   "name": "python",
   "nbconvert_exporter": "python",
   "pygments_lexer": "ipython3",
   "version": "3.9.12"
  }
 },
 "nbformat": 4,
 "nbformat_minor": 5
}
